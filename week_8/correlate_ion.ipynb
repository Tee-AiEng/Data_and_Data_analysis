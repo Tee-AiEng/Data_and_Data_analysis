{
 "cells": [
  {
   "cell_type": "code",
   "execution_count": 1,
   "id": "5c6e1c76",
   "metadata": {},
   "outputs": [],
   "source": [
    "import numpy as np\n",
    "import pandas as pd\n",
    "import matplotlib.pyplot as plt\n",
    "import seaborn as sns\n",
    "\n",
    "# set seed fro reproducibility\n",
    "np.random.seed(42)"
   ]
  },
  {
   "cell_type": "code",
   "execution_count": 2,
   "id": "b962bf2b",
   "metadata": {},
   "outputs": [],
   "source": [
    "#create synythetic data\n",
    "students = 40\n",
    "study_hours = np.random.randint(1, 10, students)\n",
    "job_hours = np.random.randint(0, 15, students)\n",
    "sleep_hours = np.random.randint(4, 9, students)\n",
    "extracurricullar = np.random.randint(0, 6, students)\n",
    "\n",
    "\n",
    "# Exam score: positively influenced by study & sleep, negatively by job & extra activities\n",
    "\n",
    "exam_score = (40\n",
    "              +5*study_hours\n",
    "              +2*sleep_hours\n",
    "              -3*job_hours\n",
    "              -1*extracurricullar\n",
    "              +np.random.randint(-5, 5, students)\n",
    "              )\n",
    "\n",
    "\n",
    "data = pd.DataFrame({\n",
    "    \"study_hours\":study_hours,\n",
    "    \"job_hours\":job_hours,\n",
    "    \"sleep_hours\":sleep_hours,\n",
    "    \"extracurricular_hours\":extracurricullar,\n",
    "    \"exam_score\":exam_score\n",
    "})"
   ]
  },
  {
   "cell_type": "code",
   "execution_count": 3,
   "id": "d7c0c09a",
   "metadata": {},
   "outputs": [
    {
     "data": {
      "text/html": [
       "<div>\n",
       "<style scoped>\n",
       "    .dataframe tbody tr th:only-of-type {\n",
       "        vertical-align: middle;\n",
       "    }\n",
       "\n",
       "    .dataframe tbody tr th {\n",
       "        vertical-align: top;\n",
       "    }\n",
       "\n",
       "    .dataframe thead th {\n",
       "        text-align: right;\n",
       "    }\n",
       "</style>\n",
       "<table border=\"1\" class=\"dataframe\">\n",
       "  <thead>\n",
       "    <tr style=\"text-align: right;\">\n",
       "      <th></th>\n",
       "      <th>study_hours</th>\n",
       "      <th>job_hours</th>\n",
       "      <th>sleep_hours</th>\n",
       "      <th>extracurricular_hours</th>\n",
       "      <th>exam_score</th>\n",
       "    </tr>\n",
       "  </thead>\n",
       "  <tbody>\n",
       "    <tr>\n",
       "      <th>0</th>\n",
       "      <td>7</td>\n",
       "      <td>9</td>\n",
       "      <td>7</td>\n",
       "      <td>2</td>\n",
       "      <td>58</td>\n",
       "    </tr>\n",
       "    <tr>\n",
       "      <th>1</th>\n",
       "      <td>4</td>\n",
       "      <td>4</td>\n",
       "      <td>4</td>\n",
       "      <td>0</td>\n",
       "      <td>60</td>\n",
       "    </tr>\n",
       "    <tr>\n",
       "      <th>2</th>\n",
       "      <td>8</td>\n",
       "      <td>1</td>\n",
       "      <td>8</td>\n",
       "      <td>2</td>\n",
       "      <td>92</td>\n",
       "    </tr>\n",
       "    <tr>\n",
       "      <th>3</th>\n",
       "      <td>5</td>\n",
       "      <td>3</td>\n",
       "      <td>8</td>\n",
       "      <td>4</td>\n",
       "      <td>71</td>\n",
       "    </tr>\n",
       "    <tr>\n",
       "      <th>4</th>\n",
       "      <td>7</td>\n",
       "      <td>11</td>\n",
       "      <td>5</td>\n",
       "      <td>5</td>\n",
       "      <td>48</td>\n",
       "    </tr>\n",
       "  </tbody>\n",
       "</table>\n",
       "</div>"
      ],
      "text/plain": [
       "   study_hours  job_hours  sleep_hours  extracurricular_hours  exam_score\n",
       "0            7          9            7                      2          58\n",
       "1            4          4            4                      0          60\n",
       "2            8          1            8                      2          92\n",
       "3            5          3            8                      4          71\n",
       "4            7         11            5                      5          48"
      ]
     },
     "execution_count": 3,
     "metadata": {},
     "output_type": "execute_result"
    }
   ],
   "source": [
    "data.head()"
   ]
  },
  {
   "cell_type": "code",
   "execution_count": 4,
   "id": "6b4b79bc",
   "metadata": {},
   "outputs": [
    {
     "data": {
      "text/html": [
       "<div>\n",
       "<style scoped>\n",
       "    .dataframe tbody tr th:only-of-type {\n",
       "        vertical-align: middle;\n",
       "    }\n",
       "\n",
       "    .dataframe tbody tr th {\n",
       "        vertical-align: top;\n",
       "    }\n",
       "\n",
       "    .dataframe thead th {\n",
       "        text-align: right;\n",
       "    }\n",
       "</style>\n",
       "<table border=\"1\" class=\"dataframe\">\n",
       "  <thead>\n",
       "    <tr style=\"text-align: right;\">\n",
       "      <th></th>\n",
       "      <th>study_hours</th>\n",
       "      <th>job_hours</th>\n",
       "      <th>sleep_hours</th>\n",
       "      <th>extracurricular_hours</th>\n",
       "      <th>exam_score</th>\n",
       "    </tr>\n",
       "  </thead>\n",
       "  <tbody>\n",
       "    <tr>\n",
       "      <th>study_hours</th>\n",
       "      <td>1.000000</td>\n",
       "      <td>0.076427</td>\n",
       "      <td>0.155248</td>\n",
       "      <td>-0.118338</td>\n",
       "      <td>0.615404</td>\n",
       "    </tr>\n",
       "    <tr>\n",
       "      <th>job_hours</th>\n",
       "      <td>0.076427</td>\n",
       "      <td>1.000000</td>\n",
       "      <td>0.252023</td>\n",
       "      <td>-0.083942</td>\n",
       "      <td>-0.697643</td>\n",
       "    </tr>\n",
       "    <tr>\n",
       "      <th>sleep_hours</th>\n",
       "      <td>0.155248</td>\n",
       "      <td>0.252023</td>\n",
       "      <td>1.000000</td>\n",
       "      <td>-0.105864</td>\n",
       "      <td>0.093354</td>\n",
       "    </tr>\n",
       "    <tr>\n",
       "      <th>extracurricular_hours</th>\n",
       "      <td>-0.118338</td>\n",
       "      <td>-0.083942</td>\n",
       "      <td>-0.105864</td>\n",
       "      <td>1.000000</td>\n",
       "      <td>-0.086014</td>\n",
       "    </tr>\n",
       "    <tr>\n",
       "      <th>exam_score</th>\n",
       "      <td>0.615404</td>\n",
       "      <td>-0.697643</td>\n",
       "      <td>0.093354</td>\n",
       "      <td>-0.086014</td>\n",
       "      <td>1.000000</td>\n",
       "    </tr>\n",
       "  </tbody>\n",
       "</table>\n",
       "</div>"
      ],
      "text/plain": [
       "                       study_hours  job_hours  sleep_hours  \\\n",
       "study_hours               1.000000   0.076427     0.155248   \n",
       "job_hours                 0.076427   1.000000     0.252023   \n",
       "sleep_hours               0.155248   0.252023     1.000000   \n",
       "extracurricular_hours    -0.118338  -0.083942    -0.105864   \n",
       "exam_score                0.615404  -0.697643     0.093354   \n",
       "\n",
       "                       extracurricular_hours  exam_score  \n",
       "study_hours                        -0.118338    0.615404  \n",
       "job_hours                          -0.083942   -0.697643  \n",
       "sleep_hours                        -0.105864    0.093354  \n",
       "extracurricular_hours               1.000000   -0.086014  \n",
       "exam_score                         -0.086014    1.000000  "
      ]
     },
     "execution_count": 4,
     "metadata": {},
     "output_type": "execute_result"
    }
   ],
   "source": [
    "corr_correficient = data.corr()\n",
    "corr_correficient"
   ]
  },
  {
   "cell_type": "code",
   "execution_count": 5,
   "id": "59537ca9",
   "metadata": {},
   "outputs": [
    {
     "data": {
      "text/plain": [
       "Index(['study_hours', 'job_hours', 'sleep_hours', 'extracurricular_hours',\n",
       "       'exam_score'],\n",
       "      dtype='object')"
      ]
     },
     "execution_count": 5,
     "metadata": {},
     "output_type": "execute_result"
    }
   ],
   "source": [
    "data.columns"
   ]
  },
  {
   "cell_type": "code",
   "execution_count": 10,
   "id": "b39721c5",
   "metadata": {},
   "outputs": [
    {
     "data": {
      "image/png": "[encoded data removed]",
      "text/plain": [
       "<Figure size 640x480 with 2 Axes>"
      ]
     },
     "metadata": {},
     "output_type": "display_data"
    }
   ],
   "source": [
    "# Lets plot the realationship on a scatter plot\n",
    "#Plot: Positive correlation: study vs score\n",
    "\n",
    "plt.subplot(1, 2, 1)\n",
    "sns.scatterplot(x=\"study_hours\", y=\"exam_score\", data=data,color=\"blue\")\n",
    "plt.title(\"Positive Correlation:\\nStudy Hours Vs Exam Score\",fontsize=14)\n",
    "plt.xlabel(\"Study Hours\")\n",
    "plt.ylabel(\"Exam Score\")\n",
    "plt.text(2, max(data[\"exam_score\"])-5,f\"r = {data.corr().loc[\"study_hours\",\"exam_score\"]:.2f}\",\n",
    "         fontsize=12, color=\"darkred\",bbox=dict(facecolor=\"white\", edgecolor=\"red\"))\n",
    "plt.grid(True, linestyle=\"--\", alpha=0.6)\n",
    "\n",
    "# Negative correlation: Job vs Score\n",
    "plt.subplot(1,2,2)\n",
    "sns.scatterplot(x=\"job_hours\",y=\"exam_score\",data=data,color=\"green\")\n",
    "plt.title(\"Negative Correlation:\\nJob Hours vs Exam Score\", fontsize=14)\n",
    "plt.xlabel(\"Part-Time Job Hours\")\n",
    "plt.ylabel(\"Exam Score\")\n",
    "plt.text(5, max(data[\"exam_score\"])-5, f\"r = {data.corr().loc[\"job_hours\",\"exam_score\"]:.2f}\",\n",
    "         fontsize=12, color=\"darkred\", bbox=dict(facecolor='white', edgecolor='red'))\n",
    "plt.grid(True, linestyle=\"--\", alpha=0.6)\n",
    "\n",
    "plt.tight_layout()\n",
    "plt.show()\n",
    "\n"
   ]
  }
 ],
 "metadata": {
  "kernelspec": {
   "display_name": "vire",
   "language": "python",
   "name": "python3"
  },
  "language_info": {
   "codemirror_mode": {
    "name": "ipython",
    "version": 3
   },
   "file_extension": ".py",
   "mimetype": "text/x-python",
   "name": "python",
   "nbconvert_exporter": "python",
   "pygments_lexer": "ipython3",
   "version": "3.13.7"
  }
 },
 "nbformat": 4,
 "nbformat_minor": 5
}
