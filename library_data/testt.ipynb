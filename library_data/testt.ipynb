{
 "cells": [
  {
   "cell_type": "code",
   "execution_count": 1,
   "id": "895ebc57",
   "metadata": {},
   "outputs": [],
   "source": [
    "import pandas as pd\n",
    "import numpy as np"
   ]
  },
  {
   "cell_type": "code",
   "execution_count": 2,
   "id": "e7ef42fe",
   "metadata": {},
   "outputs": [
    {
     "data": {
      "text/html": [
       "<div>\n",
       "<style scoped>\n",
       "    .dataframe tbody tr th:only-of-type {\n",
       "        vertical-align: middle;\n",
       "    }\n",
       "\n",
       "    .dataframe tbody tr th {\n",
       "        vertical-align: top;\n",
       "    }\n",
       "\n",
       "    .dataframe thead th {\n",
       "        text-align: right;\n",
       "    }\n",
       "</style>\n",
       "<table border=\"1\" class=\"dataframe\">\n",
       "  <thead>\n",
       "    <tr style=\"text-align: right;\">\n",
       "      <th></th>\n",
       "      <th>MemberID</th>\n",
       "      <th>Name</th>\n",
       "      <th>Gender</th>\n",
       "      <th>EmailAddress</th>\n",
       "      <th>PhoneNumber</th>\n",
       "      <th>Address</th>\n",
       "      <th>Age</th>\n",
       "      <th>TypeOfMembership</th>\n",
       "      <th>DateOfMembership</th>\n",
       "      <th>Status</th>\n",
       "    </tr>\n",
       "  </thead>\n",
       "  <tbody>\n",
       "    <tr>\n",
       "      <th>0</th>\n",
       "      <td>1</td>\n",
       "      <td>Sarah Johnson</td>\n",
       "      <td>Female</td>\n",
       "      <td>sarah.johnson@email.com</td>\n",
       "      <td>+1-555-0123</td>\n",
       "      <td>123 Oak Street Springfield IL</td>\n",
       "      <td>28</td>\n",
       "      <td>Premium</td>\n",
       "      <td>2022-01-15</td>\n",
       "      <td>Active</td>\n",
       "    </tr>\n",
       "    <tr>\n",
       "      <th>1</th>\n",
       "      <td>2</td>\n",
       "      <td>Michael Chen</td>\n",
       "      <td>Male</td>\n",
       "      <td>m.chen@gmail.com</td>\n",
       "      <td>+1-555-0234</td>\n",
       "      <td>456 Pine Avenue Chicago IL</td>\n",
       "      <td>34</td>\n",
       "      <td>Standard</td>\n",
       "      <td>2021-03-22</td>\n",
       "      <td>Active</td>\n",
       "    </tr>\n",
       "    <tr>\n",
       "      <th>2</th>\n",
       "      <td>3</td>\n",
       "      <td>Emily Rodriguez</td>\n",
       "      <td>Female</td>\n",
       "      <td>emily.r@hotmail.com</td>\n",
       "      <td>+1-555-0345</td>\n",
       "      <td>789 Maple Drive Evanston IL</td>\n",
       "      <td>22</td>\n",
       "      <td>Student</td>\n",
       "      <td>2023-09-01</td>\n",
       "      <td>Active</td>\n",
       "    </tr>\n",
       "    <tr>\n",
       "      <th>3</th>\n",
       "      <td>4</td>\n",
       "      <td>David Thompson</td>\n",
       "      <td>Male</td>\n",
       "      <td>d.thompson@yahoo.com</td>\n",
       "      <td>+1-555-0456</td>\n",
       "      <td>321 Elm Street Naperville IL</td>\n",
       "      <td>45</td>\n",
       "      <td>Premium</td>\n",
       "      <td>2020-06-10</td>\n",
       "      <td>Active</td>\n",
       "    </tr>\n",
       "    <tr>\n",
       "      <th>4</th>\n",
       "      <td>5</td>\n",
       "      <td>Lisa Wang</td>\n",
       "      <td>Female</td>\n",
       "      <td>lisa.wang@outlook.com</td>\n",
       "      <td>+1-555-0567</td>\n",
       "      <td>654 Cedar Lane Aurora IL</td>\n",
       "      <td>31</td>\n",
       "      <td>Standard</td>\n",
       "      <td>2022-08-18</td>\n",
       "      <td>Active</td>\n",
       "    </tr>\n",
       "  </tbody>\n",
       "</table>\n",
       "</div>"
      ],
      "text/plain": [
       "   MemberID             Name  Gender             EmailAddress  PhoneNumber  \\\n",
       "0         1    Sarah Johnson  Female  sarah.johnson@email.com  +1-555-0123   \n",
       "1         2     Michael Chen    Male         m.chen@gmail.com  +1-555-0234   \n",
       "2         3  Emily Rodriguez  Female      emily.r@hotmail.com  +1-555-0345   \n",
       "3         4   David Thompson    Male     d.thompson@yahoo.com  +1-555-0456   \n",
       "4         5        Lisa Wang  Female    lisa.wang@outlook.com  +1-555-0567   \n",
       "\n",
       "                         Address  Age TypeOfMembership DateOfMembership  \\\n",
       "0  123 Oak Street Springfield IL   28          Premium       2022-01-15   \n",
       "1     456 Pine Avenue Chicago IL   34         Standard       2021-03-22   \n",
       "2    789 Maple Drive Evanston IL   22          Student       2023-09-01   \n",
       "3   321 Elm Street Naperville IL   45          Premium       2020-06-10   \n",
       "4       654 Cedar Lane Aurora IL   31         Standard       2022-08-18   \n",
       "\n",
       "   Status  \n",
       "0  Active  \n",
       "1  Active  \n",
       "2  Active  \n",
       "3  Active  \n",
       "4  Active  "
      ]
     },
     "execution_count": 2,
     "metadata": {},
     "output_type": "execute_result"
    }
   ],
   "source": [
    "df_member = pd.read_csv(\"members.csv\")\n",
    "df_member.head()"
   ]
  },
  {
   "cell_type": "code",
   "execution_count": 3,
   "id": "cf78310c",
   "metadata": {},
   "outputs": [
    {
     "data": {
      "text/plain": [
       "Index(['MemberID', 'Name', 'Gender', 'EmailAddress', 'PhoneNumber', 'Address',\n",
       "       'Age', 'TypeOfMembership', 'DateOfMembership', 'Status'],\n",
       "      dtype='object')"
      ]
     },
     "execution_count": 3,
     "metadata": {},
     "output_type": "execute_result"
    }
   ],
   "source": [
    "df_member.columns"
   ]
  },
  {
   "cell_type": "code",
   "execution_count": 4,
   "id": "eb85cce4",
   "metadata": {},
   "outputs": [
    {
     "data": {
      "text/plain": [
       "array(['Female', 'Male'], dtype=object)"
      ]
     },
     "execution_count": 4,
     "metadata": {},
     "output_type": "execute_result"
    }
   ],
   "source": [
    "df_member[\"Gender\"].unique()"
   ]
  },
  {
   "cell_type": "code",
   "execution_count": 5,
   "id": "b48fa4b6",
   "metadata": {},
   "outputs": [
    {
     "data": {
      "text/plain": [
       "array(['Active', 'Suspended'], dtype=object)"
      ]
     },
     "execution_count": 5,
     "metadata": {},
     "output_type": "execute_result"
    }
   ],
   "source": [
    "df_member[\"Status\"].unique()"
   ]
  },
  {
   "cell_type": "code",
   "execution_count": 6,
   "id": "99740228",
   "metadata": {},
   "outputs": [
    {
     "data": {
      "text/plain": [
       "np.int64(0)"
      ]
     },
     "execution_count": 6,
     "metadata": {},
     "output_type": "execute_result"
    }
   ],
   "source": [
    "df_member[\"EmailAddress\"].isnull().sum()"
   ]
  },
  {
   "cell_type": "code",
   "execution_count": 7,
   "id": "631660f3",
   "metadata": {},
   "outputs": [
    {
     "data": {
      "text/html": [
       "<div>\n",
       "<style scoped>\n",
       "    .dataframe tbody tr th:only-of-type {\n",
       "        vertical-align: middle;\n",
       "    }\n",
       "\n",
       "    .dataframe tbody tr th {\n",
       "        vertical-align: top;\n",
       "    }\n",
       "\n",
       "    .dataframe thead th {\n",
       "        text-align: right;\n",
       "    }\n",
       "</style>\n",
       "<table border=\"1\" class=\"dataframe\">\n",
       "  <thead>\n",
       "    <tr style=\"text-align: right;\">\n",
       "      <th></th>\n",
       "      <th>OrderID</th>\n",
       "      <th>OrderDate</th>\n",
       "      <th>BookID</th>\n",
       "      <th>Cost</th>\n",
       "      <th>Quantity</th>\n",
       "      <th>SupplyDate</th>\n",
       "      <th>FulfillmentStatus</th>\n",
       "      <th>NameOfSupplier</th>\n",
       "    </tr>\n",
       "  </thead>\n",
       "  <tbody>\n",
       "    <tr>\n",
       "      <th>0</th>\n",
       "      <td>1</td>\n",
       "      <td>2024-01-10</td>\n",
       "      <td>1</td>\n",
       "      <td>12.99</td>\n",
       "      <td>5</td>\n",
       "      <td>2024-01-18</td>\n",
       "      <td>Fulfilled</td>\n",
       "      <td>Baker &amp; Taylor</td>\n",
       "    </tr>\n",
       "    <tr>\n",
       "      <th>1</th>\n",
       "      <td>2</td>\n",
       "      <td>2024-01-15</td>\n",
       "      <td>22</td>\n",
       "      <td>15.95</td>\n",
       "      <td>8</td>\n",
       "      <td>2024-01-25</td>\n",
       "      <td>Fulfilled</td>\n",
       "      <td>Ingram Book Group</td>\n",
       "    </tr>\n",
       "    <tr>\n",
       "      <th>2</th>\n",
       "      <td>3</td>\n",
       "      <td>2024-02-05</td>\n",
       "      <td>30</td>\n",
       "      <td>8.99</td>\n",
       "      <td>10</td>\n",
       "      <td>2024-02-15</td>\n",
       "      <td>Fulfilled</td>\n",
       "      <td>Scholastic</td>\n",
       "    </tr>\n",
       "    <tr>\n",
       "      <th>3</th>\n",
       "      <td>4</td>\n",
       "      <td>2024-02-12</td>\n",
       "      <td>7</td>\n",
       "      <td>14.50</td>\n",
       "      <td>6</td>\n",
       "      <td>2024-02-22</td>\n",
       "      <td>Fulfilled</td>\n",
       "      <td>Random House</td>\n",
       "    </tr>\n",
       "    <tr>\n",
       "      <th>4</th>\n",
       "      <td>5</td>\n",
       "      <td>2024-02-20</td>\n",
       "      <td>19</td>\n",
       "      <td>13.75</td>\n",
       "      <td>4</td>\n",
       "      <td>2024-03-02</td>\n",
       "      <td>Fulfilled</td>\n",
       "      <td>HarperCollins</td>\n",
       "    </tr>\n",
       "  </tbody>\n",
       "</table>\n",
       "</div>"
      ],
      "text/plain": [
       "   OrderID   OrderDate  BookID   Cost  Quantity  SupplyDate FulfillmentStatus  \\\n",
       "0        1  2024-01-10       1  12.99         5  2024-01-18         Fulfilled   \n",
       "1        2  2024-01-15      22  15.95         8  2024-01-25         Fulfilled   \n",
       "2        3  2024-02-05      30   8.99        10  2024-02-15         Fulfilled   \n",
       "3        4  2024-02-12       7  14.50         6  2024-02-22         Fulfilled   \n",
       "4        5  2024-02-20      19  13.75         4  2024-03-02         Fulfilled   \n",
       "\n",
       "      NameOfSupplier  \n",
       "0     Baker & Taylor  \n",
       "1  Ingram Book Group  \n",
       "2         Scholastic  \n",
       "3       Random House  \n",
       "4      HarperCollins  "
      ]
     },
     "execution_count": 7,
     "metadata": {},
     "output_type": "execute_result"
    }
   ],
   "source": [
    "\n",
    "df_book_orders = pd.read_csv(\"bookorders.csv\")\n",
    "df_book_orders.head()"
   ]
  },
  {
   "cell_type": "code",
   "execution_count": 8,
   "id": "9ec9d8fc",
   "metadata": {},
   "outputs": [
    {
     "data": {
      "text/plain": [
       "Index(['OrderID', 'OrderDate', 'BookID', 'Cost', 'Quantity', 'SupplyDate',\n",
       "       'FulfillmentStatus', 'NameOfSupplier'],\n",
       "      dtype='object')"
      ]
     },
     "execution_count": 8,
     "metadata": {},
     "output_type": "execute_result"
    }
   ],
   "source": [
    "df_book_orders.columns"
   ]
  },
  {
   "cell_type": "code",
   "execution_count": 9,
   "id": "5922f1f0",
   "metadata": {},
   "outputs": [
    {
     "data": {
      "text/plain": [
       "array(['Fulfilled', 'Pending', 'Processing'], dtype=object)"
      ]
     },
     "execution_count": 9,
     "metadata": {},
     "output_type": "execute_result"
    }
   ],
   "source": [
    "df_book_orders[\"FulfillmentStatus\"].unique()"
   ]
  },
  {
   "cell_type": "code",
   "execution_count": 10,
   "id": "33d077c9",
   "metadata": {},
   "outputs": [
    {
     "name": "stdout",
     "output_type": "stream",
     "text": [
      "<class 'pandas.core.frame.DataFrame'>\n",
      "RangeIndex: 25 entries, 0 to 24\n",
      "Data columns (total 9 columns):\n",
      " #   Column        Non-Null Count  Dtype  \n",
      "---  ------        --------------  -----  \n",
      " 0   StaffID       25 non-null     int64  \n",
      " 1   Name          25 non-null     object \n",
      " 2   JobTitle      25 non-null     object \n",
      " 3   DepartmentID  25 non-null     int64  \n",
      " 4   Gender        25 non-null     object \n",
      " 5   Address       25 non-null     object \n",
      " 6   PhoneNumber   25 non-null     object \n",
      " 7   HireDate      25 non-null     object \n",
      " 8   ManagerID     24 non-null     float64\n",
      "dtypes: float64(1), int64(2), object(6)\n",
      "memory usage: 1.9+ KB\n"
     ]
    }
   ],
   "source": [
    "df_libary_staff = pd.read_csv(\"librarystaff.csv\")\n",
    "df_libary_staff.info()"
   ]
  }
 ],
 "metadata": {
  "kernelspec": {
   "display_name": "vire",
   "language": "python",
   "name": "python3"
  },
  "language_info": {
   "codemirror_mode": {
    "name": "ipython",
    "version": 3
   },
   "file_extension": ".py",
   "mimetype": "text/x-python",
   "name": "python",
   "nbconvert_exporter": "python",
   "pygments_lexer": "ipython3",
   "version": "3.13.7"
  }
 },
 "nbformat": 4,
 "nbformat_minor": 5
}
