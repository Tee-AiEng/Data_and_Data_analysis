{
 "cells": [
  {
   "cell_type": "code",
   "execution_count": 2,
   "id": "cb4a4d52",
   "metadata": {},
   "outputs": [],
   "source": [
    "import numpy as np\n",
    "import matplotlib.pyplot as plt\n",
    "import time"
   ]
  },
  {
   "cell_type": "code",
   "execution_count": 3,
   "id": "0a420f8b",
   "metadata": {},
   "outputs": [
    {
     "name": "stdout",
     "output_type": "stream",
     "text": [
      "Numpy version: 2.3.2\n"
     ]
    }
   ],
   "source": [
    "print(f\"Numpy version: {np.__version__}\")\n",
    "np.set_printoptions(precision=3, suppress=True)"
   ]
  },
  {
   "cell_type": "code",
   "execution_count": 4,
   "id": "53e83958",
   "metadata": {},
   "outputs": [
    {
     "name": "stdout",
     "output_type": "stream",
     "text": [
      "1D Array: [1 2 3 4 5]\n",
      "2D Array:\n",
      " [[1 2 3]\n",
      " [4 5 6]]\n",
      "3D Array:\n",
      " [[[1 3]\n",
      "  [2 4]]\n",
      "\n",
      " [[5 7]\n",
      "  [9 6]]]\n"
     ]
    }
   ],
   "source": [
    "# creating arrays from python lists\n",
    "#1D: a simple sequence of numbers\n",
    "arr1d = np.array([1, 2, 3, 4, 5])\n",
    "#2D: array: a matrix or table with rows and columns\n",
    "arrd2 = np.array([[1, 2, 3],\n",
    "                 [4, 5, 6]])\n",
    "#3D array: like a stack of 2D arrays - useful for images, time series e.tc \n",
    "arrd3 = np.array([[[1,3],[2,4]],\n",
    "                  [[5,7],[9,6]]])\n",
    "\n",
    "print(\"1D Array:\",arr1d)\n",
    "print(\"2D Array:\\n\",arrd2)\n",
    "print(\"3D Array:\\n\",arrd3)"
   ]
  },
  {
   "cell_type": "code",
   "execution_count": 5,
   "id": "8d8504b5",
   "metadata": {},
   "outputs": [
    {
     "name": "stdout",
     "output_type": "stream",
     "text": [
      "Zero Array(3x4): [[0. 0. 0. 0.]\n",
      " [0. 0. 0. 0.]\n",
      " [0. 0. 0. 0.]]\n",
      "Ones array  Array:\n",
      " [[[1. 1. 1. 1.]\n",
      "  [1. 1. 1. 1.]\n",
      "  [1. 1. 1. 1.]]\n",
      "\n",
      " [[1. 1. 1. 1.]\n",
      "  [1. 1. 1. 1.]\n",
      "  [1. 1. 1. 1.]]]\n",
      "Ones array  Array:\n",
      " (2, 3, 4)\n",
      "Empty Array(contains random numbers):\n",
      " [[0. 0.]\n",
      " [0. 0.]]\n"
     ]
    }
   ],
   "source": [
    "# creating arrays filled with zeros - useful for initializing arrays\n",
    "# shape(3,4) rows first coulmsns second\n",
    "zeros = np.zeros((3,4))\n",
    "\n",
    "# creating arrays filled with ones - often used as starting points\n",
    "ones = np.ones((2, 3, 4))\n",
    "\n",
    "# empty array - faster than 0s and 1s but contains random values\n",
    "empty = np.empty((2, 2))\n",
    "\n",
    "print(\"Zero Array(3x4):\",zeros)\n",
    "print(\"Ones array  Array:\\n\",ones)\n",
    "print(\"Ones array  Array:\\n\",ones.shape)\n",
    "print(\"Empty Array(contains random numbers):\\n\",empty)"
   ]
  },
  {
   "cell_type": "code",
   "execution_count": 6,
   "id": "d81ee22f",
   "metadata": {},
   "outputs": [
    {
     "name": "stdout",
     "output_type": "stream",
     "text": [
      "Range array: [0 2 4 6 8]\n",
      "Linspace array: [0.   0.25 0.5  0.75 1.  ]\n",
      "Logspace array: [ 1.     1.778  3.162  5.623 10.   ]\n"
     ]
    }
   ],
   "source": [
    "# range arrays - like python's range() but more powerful\n",
    "range_arr = np.arange(0, 10, 2)\n",
    "print(\"Range array:\",range_arr)\n",
    "\n",
    "#linearly spaced arrays - divide a range into equal parts\n",
    "# From 0 to 1 with exactly 5 points (including endpoints)\n",
    "linespace_arr = np.linspace(0, 1, 5)\n",
    "print(\"Linspace array:\",linespace_arr)\n",
    "\n",
    "\n",
    "# Logarithmically spaced arrays - useful for scientific data\n",
    "# From 10^0 to 10^2 (1 to 100) with 5 points\n",
    "logspace_arr = np.logspace(0, 1, 5)  \n",
    "print(\"Logspace array:\", logspace_arr)\n"
   ]
  },
  {
   "cell_type": "code",
   "execution_count": 7,
   "id": "7e2d7513",
   "metadata": {},
   "outputs": [
    {
     "name": "stdout",
     "output_type": "stream",
     "text": [
      "Identity matrix:\n",
      " [[1. 0. 0. 0. 0. 0.]\n",
      " [0. 1. 0. 0. 0. 0.]\n",
      " [0. 0. 1. 0. 0. 0.]\n",
      " [0. 0. 0. 1. 0. 0.]\n",
      " [0. 0. 0. 0. 1. 0.]\n",
      " [0. 0. 0. 0. 0. 1.]]\n",
      "Diagonal matrix:\n",
      " [[1 0 0 0]\n",
      " [0 2 0 0]\n",
      " [0 0 3 0]\n",
      " [0 0 0 4]]\n",
      "Full array (filled with 7):\n",
      " [[7 7 7]\n",
      " [7 7 7]\n",
      " [7 7 7]]\n"
     ]
    }
   ],
   "source": [
    "# identy matrix\n",
    "identity = np.eye(6)\n",
    "print(\"Identity matrix:\\n\", identity)\n",
    "\n",
    "diagonal = np.diag([1, 2, 3, 4])\n",
    "print(\"Diagonal matrix:\\n\", diagonal)\n",
    "\n",
    "\n",
    "full_arr = np.full((3,3),7)\n",
    "print(\"Full array (filled with 7):\\n\", full_arr)"
   ]
  },
  {
   "cell_type": "code",
   "execution_count": 8,
   "id": "64a9ccce",
   "metadata": {},
   "outputs": [
    {
     "name": "stdout",
     "output_type": "stream",
     "text": [
      "Integer array dtype: int32\n",
      "Integer array : [1 2 3]\n",
      "Float array dtype: float64\n",
      "Boolean array dtype: int32\n",
      "Converted array dtype: float32\n",
      "int32 uses 4 bytes per element\n",
      "float64 uses 8 bytes per element\n"
     ]
    }
   ],
   "source": [
    "int_arr = np.array([1, 2, 3], dtype= np.int32)\n",
    "float_arr = np.array([1, 2, 3], dtype= np.float64)\n",
    "bool_arr = np.array([True, False, True], dtype= np.int32)\n",
    "converted = int_arr.astype(np.float32) \n",
    "\n",
    "\n",
    "print(\"Integer array dtype:\", int_arr.dtype)\n",
    "print(\"Integer array :\", int_arr)\n",
    "print(\"Float array dtype:\", float_arr.dtype)\n",
    "print(\"Boolean array dtype:\", bool_arr.dtype)\n",
    "print(\"Converted array dtype:\", converted.dtype)\n",
    "\n",
    "\n",
    "print(f\"int32 uses {int_arr.itemsize} bytes per element\")\n",
    "print(f\"float64 uses {float_arr.itemsize} bytes per element\")"
   ]
  },
  {
   "cell_type": "code",
   "execution_count": 9,
   "id": "0fbbb947",
   "metadata": {},
   "outputs": [
    {
     "name": "stdout",
     "output_type": "stream",
     "text": [
      "Array [[[ 0.154  1.078  0.804  0.089 -1.126]\n",
      "  [ 0.702 -1.861  1.059  0.324  1.794]\n",
      "  [ 0.415 -1.534  0.629 -0.377 -2.053]\n",
      "  [ 0.42   1.842 -0.076 -0.517  0.979]]\n",
      "\n",
      " [[-0.411  0.509  0.945 -0.055 -0.215]\n",
      "  [ 0.771 -0.066 -0.277  1.026  0.757]\n",
      "  [-0.209 -1.755 -0.535 -1.381 -0.045]\n",
      "  [-0.752 -0.939  0.2   -1.114 -0.256]]\n",
      "\n",
      " [[ 1.758  0.041  0.235  0.135  1.465]\n",
      "  [ 0.55  -1.268 -0.204  0.403  0.272]\n",
      "  [-0.65   1.063  1.632 -1.088 -0.521]\n",
      "  [ 0.979 -1.077 -1.261 -0.681 -0.315]]]\n",
      "Shape: (3, 4, 5)\n",
      "Size: 60\n",
      "Dtype: float64\n",
      "Itemsize: 8\n",
      "Memory usage: 480 bytes\n",
      "Memory usage: 0.46875 KB\n"
     ]
    }
   ],
   "source": [
    "arr = np.random.randn(3, 4, 5)\n",
    "print(\"Array\", arr)  \n",
    "# Shape: The dimensions of the array (layers, rows, columns)\n",
    "print(\"Shape:\", arr.shape)   \n",
    "# Size: Total number of elements (3 × 4 × 5 = 60)\n",
    "print(\"Size:\", arr.size)  \n",
    "# Dtype: Data type of elements\n",
    "print(\"Dtype:\", arr.dtype)           # Usually float64 for random numbers\n",
    "# Itemsize: Memory size of each element in bytes\n",
    "print(\"Itemsize:\", arr.itemsize) \n",
    "# Total memory usage in bytes\n",
    "print(\"Memory usage:\", arr.nbytes, \"bytes\")  # size × itemsize\n",
    "print(\"Memory usage:\", arr.nbytes / 1024, \"KB\") \n"
   ]
  },
  {
   "cell_type": "code",
   "execution_count": 10,
   "id": "5af69802",
   "metadata": {},
   "outputs": [
    {
     "name": "stdout",
     "output_type": "stream",
     "text": [
      "First element: 10\n",
      "First element: 20\n",
      "First element: 50\n",
      "First element: [20 30 40]\n",
      "First element: [10 30 50]\n"
     ]
    }
   ],
   "source": [
    "arr1d1 = np.array([10, 20, 30, 40 ,50])\n",
    "print(\"First element:\", arr1d1[0])\n",
    "print(\"First element:\", arr1d1[1]) \n",
    "print(\"First element:\", arr1d1[-1]) \n",
    "print(\"First element:\", arr1d1[1:4]) \n",
    "print(\"First element:\", arr1d1[::2]) "
   ]
  },
  {
   "cell_type": "code",
   "execution_count": 11,
   "id": "3030a4a6",
   "metadata": {},
   "outputs": [
    {
     "name": "stdout",
     "output_type": "stream",
     "text": [
      "Element at row 1, column 2: 7\n",
      "First row: [1 2 3 4]\n",
      "Second column: [ 2  6 10  4]\n",
      "Subarray (rows 1-2, cols 1-2):\n",
      " [[ 6  7]\n",
      " [10 11]]\n"
     ]
    }
   ],
   "source": [
    "arr1d2 = np.array([[1, 2, 3, 4],\n",
    "                  [5, 6, 7, 8],\n",
    "                  [9, 10, 11, 12],\n",
    "                  [3, 4, 5, 6]])\n",
    "\n",
    "# Access specific element: [row, column]\n",
    "print(\"Element at row 1, column 2:\", arr1d2[1, 2])  \n",
    "# Access entire rows or columns\n",
    "print(\"First row:\",  arr1d2[0, :])\n",
    "print(\"Second column:\",   arr1d2[:, 1])    \n",
    "# Subarray slicing: [row_start:row_end, col_start:col_end]\n",
    "print(\"Subarray (rows 1-2, cols 1-2):\\n\",  arr1d2[1:3, 1:3])"
   ]
  },
  {
   "cell_type": "code",
   "execution_count": 13,
   "id": "5fb0b4aa",
   "metadata": {},
   "outputs": [
    {
     "name": "stdout",
     "output_type": "stream",
     "text": [
      "Fancy indexing: [10 30 50]\n",
      "Random Order: [50 20 40 20]\n"
     ]
    }
   ],
   "source": [
    "arr = np.array([10, 20, 30, 40, 50])\n",
    "indices = np.array([0, 2, 4])  # Select elements at positions 0, 2, 4\n",
    "print(\"Fancy indexing:\", arr[indices]) \n",
    "\n",
    "random_indices = np.array([4, 1, 3, 1])\n",
    "print(\"Random Order:\", arr[random_indices])"
   ]
  },
  {
   "cell_type": "code",
   "execution_count": 32,
   "id": "8fa9d6cc",
   "metadata": {},
   "outputs": [
    {
     "name": "stdout",
     "output_type": "stream",
     "text": [
      "Original 2D array:\n",
      " [[ 0  1  2  3]\n",
      " [ 4  5  6  7]\n",
      " [ 8  9 10 11]]\n",
      "Elements at (0,1) and (2,3): [ 1 11]\n"
     ]
    }
   ],
   "source": [
    "arrdd2 = np.arange(12).reshape(3,4)\n",
    "print(\"Original 2D array:\\n\", arrdd2)\n",
    "\n",
    "\n",
    "rows = np.array([0,2])\n",
    "cols = np.array([1, 3])\n",
    "\n",
    "print(\"Elements at (0,1) and (2,3):\",arrdd2[rows, cols]) "
   ]
  },
  {
   "cell_type": "code",
   "execution_count": null,
   "id": "5fc7195f",
   "metadata": {},
   "outputs": [],
   "source": []
  }
 ],
 "metadata": {
  "kernelspec": {
   "display_name": "vire (3.13.7)",
   "language": "python",
   "name": "python3"
  },
  "language_info": {
   "codemirror_mode": {
    "name": "ipython",
    "version": 3
   },
   "file_extension": ".py",
   "mimetype": "text/x-python",
   "name": "python",
   "nbconvert_exporter": "python",
   "pygments_lexer": "ipython3",
   "version": "3.13.7"
  }
 },
 "nbformat": 4,
 "nbformat_minor": 5
}
