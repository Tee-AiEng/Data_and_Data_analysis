{
 "cells": [
  {
   "cell_type": "code",
   "execution_count": 37,
   "id": "6f9d25c3",
   "metadata": {},
   "outputs": [],
   "source": [
    "import numpy as np"
   ]
  },
  {
   "cell_type": "markdown",
   "id": "8717c9c6",
   "metadata": {},
   "source": [
    "Question 1:  Create a 6x6 NumPy array with random integers between 1 and 50. Display the array."
   ]
  },
  {
   "cell_type": "code",
   "execution_count": 38,
   "id": "ffdcfc69",
   "metadata": {},
   "outputs": [
    {
     "name": "stdout",
     "output_type": "stream",
     "text": [
      "The Original Array: [[26  9  1  3 46 17]\n",
      " [32 23 19  7  9 26]\n",
      " [36  2  4 26 19 17]\n",
      " [12 40  9 21  1  3]\n",
      " [25 31 25 41 40  8]\n",
      " [39 34  7 37 16  1]]\n"
     ]
    }
   ],
   "source": [
    "#Question 1\n",
    "arr = np.random.randint(1, 50,(6,6))\n",
    "\n",
    "print(\"The Original Array:\",arr)"
   ]
  },
  {
   "cell_type": "markdown",
   "id": "6686fae2",
   "metadata": {},
   "source": [
    "Question 2: Extract the following from the array you created in Question 1: The first two rows. The last three columns. All even numbers in the array."
   ]
  },
  {
   "cell_type": "code",
   "execution_count": 59,
   "id": "52de69fc",
   "metadata": {},
   "outputs": [
    {
     "name": "stdout",
     "output_type": "stream",
     "text": [
      "The first two rows: [[26  9  1  3 46 17]\n",
      " [32 23 19  7  9 26]]\n",
      "The last 3 columns:\n",
      " [[ 3 46 17]\n",
      " [ 7  9 26]\n",
      " [26 19 17]\n",
      " [21  1  3]\n",
      " [41 40  8]\n",
      " [37 16  1]]\n",
      "Even Array: [26 46 32 26 36  2  4 26 12 40 40  8 34 16]\n"
     ]
    }
   ],
   "source": [
    "print(\"The first two rows:\", arr[:2, :])  \n",
    "print(\"The last 3 columns:\\n\", arr[:, 3:])  \n",
    "even_num = np.array(arr % 2 == 0)\n",
    "print(\"Even Array:\", arr[even_num])"
   ]
  },
  {
   "cell_type": "markdown",
   "id": "efe3a1fd",
   "metadata": {},
   "source": [
    "Question 3: Perform the following array transformations: Reshape the array into a 3D (3, 2, 6) array. Flatten the reshaped array back to 1D."
   ]
  },
  {
   "cell_type": "code",
   "execution_count": 41,
   "id": "562b0d45",
   "metadata": {},
   "outputs": [
    {
     "name": "stdout",
     "output_type": "stream",
     "text": [
      "The Reshaped Array: [[[26  9  1  3 46 17]\n",
      "  [32 23 19  7  9 26]]\n",
      "\n",
      " [[36  2  4 26 19 17]\n",
      "  [12 40  9 21  1  3]]\n",
      "\n",
      " [[25 31 25 41 40  8]\n",
      "  [39 34  7 37 16  1]]]\n",
      "Flattened (copy):\n",
      " [26  9  1  3 46 17 32 23 19  7  9 26 36  2  4 26 19 17 12 40  9 21  1  3\n",
      " 25 31 25 41 40  8 39 34  7 37 16  1]\n"
     ]
    }
   ],
   "source": [
    "arr2 = arr.reshape(3,2,6)\n",
    "print(\"The Reshaped Array:\",arr2)\n",
    "flattened = arr2.flatten()                 \n",
    "print(\"Flattened (copy):\\n\", flattened)\n"
   ]
  },
  {
   "cell_type": "markdown",
   "id": "ec3f4c76",
   "metadata": {},
   "source": [
    "\n",
    "Question 4: Generate a 4x4 identity matrix and replace the diagonal with numbers from 10 to 40, with a step of 10."
   ]
  },
  {
   "cell_type": "code",
   "execution_count": 45,
   "id": "3363c946",
   "metadata": {},
   "outputs": [
    {
     "name": "stdout",
     "output_type": "stream",
     "text": [
      "Identity matrix:\n",
      " [[1. 0. 0. 0.]\n",
      " [0. 1. 0. 0.]\n",
      " [0. 0. 1. 0.]\n",
      " [0. 0. 0. 1.]]\n",
      "Diagonal matrix:\n",
      " [[10  0  0  0]\n",
      " [ 0 20  0  0]\n",
      " [ 0  0 30  0]\n",
      " [ 0  0  0 40]]\n"
     ]
    }
   ],
   "source": [
    "arr_id = np.eye(4)\n",
    "print(\"Identity matrix:\\n\",arr_id)\n",
    "arr_diag = np.arange(10, 50, 10)\n",
    "arr2_diag = np.diag(arr_diag)\n",
    "print(\"Diagonal matrix:\\n\", arr2_diag)"
   ]
  },
  {
   "cell_type": "markdown",
   "id": "a28d0fef",
   "metadata": {},
   "source": [
    "Question 5: Perform matrix multiplication between: A 3x4 matrix of random integers (1-10) A 4x3 matrix of random integers (1-10)"
   ]
  },
  {
   "cell_type": "code",
   "execution_count": 61,
   "id": "98e2a82e",
   "metadata": {},
   "outputs": [
    {
     "name": "stdout",
     "output_type": "stream",
     "text": [
      "The 3 by 4 array: [[8 1 9 8]\n",
      " [2 8 8 1]\n",
      " [5 7 9 8]]\n",
      "The 4 by 3 array: [[7 6 9]\n",
      " [7 2 4]\n",
      " [5 9 1]\n",
      " [2 1 5]]\n",
      "Multiplication by mat mull: [[124 139 125]\n",
      " [112 101  63]\n",
      " [145 133 122]]\n"
     ]
    }
   ],
   "source": [
    "arr_3_4 = np.random.randint(1, 10,(3,4))\n",
    "print(\"The 3 by 4 array:\",arr_3_4)\n",
    "arr_4_3= np.random.randint(1, 10,(4,3))\n",
    "print(\"The 4 by 3 array:\",arr_4_3)\n",
    "print(\"Multiplication by mat mull:\", np.matmul(arr_3_4, arr_4_3))\n"
   ]
  },
  {
   "cell_type": "markdown",
   "id": "183136c2",
   "metadata": {},
   "source": [
    "Question 6: Create a function that takes a 2D NumPy array as input and returns a new array where: All even numbers are squared. All odd numbers are replaced by -1."
   ]
  },
  {
   "cell_type": "code",
   "execution_count": 75,
   "id": "6e7576c1",
   "metadata": {},
   "outputs": [
    {
     "name": "stdout",
     "output_type": "stream",
     "text": [
      "Original Array: [[23 36 20 31]\n",
      " [12 29  8 23]\n",
      " [11 38 14 29]]\n"
     ]
    },
    {
     "data": {
      "text/plain": [
       "array([[  -1, 1296,  400,   -1],\n",
       "       [ 144,   -1,   64,   -1],\n",
       "       [  -1, 1444,  196,   -1]], dtype=int32)"
      ]
     },
     "execution_count": 75,
     "metadata": {},
     "output_type": "execute_result"
    }
   ],
   "source": [
    "def arr():\n",
    "     z = int(input(\"Enter the lower limit: \"))\n",
    "     u = int(input(\"Enter the upper limit: \"))\n",
    "     x = int(input(\"Enter the number of rows: \"))\n",
    "     y = int(input(\"Enter the number of coulmns: \"))\n",
    "     arrd_2D = np.random.randint(z, u,(x,y))\n",
    "     print(\"Original Array:\", arrd_2D)\n",
    "     if arrd_2D.ndim == 2:\n",
    "        arrd_2D_copy = arrd_2D.copy()\n",
    "        square_mask = np.where(arrd_2D_copy %  2 == 0, np.square(arrd_2D_copy), arrd_2D_copy)\n",
    "        odd_mask = np.where(square_mask % 2 != 0, -1, square_mask)\n",
    "        return odd_mask\n",
    "     else:\n",
    "         print(\"Array not the right dimension\")\n",
    "\n",
    "\n",
    "arr()"
   ]
  },
  {
   "cell_type": "code",
   "execution_count": null,
   "id": "879ecbda",
   "metadata": {},
   "outputs": [],
   "source": [
    "def arr():\n",
    "   \n",
    "     arrd_2D = np.random.randint(z, u,(x,y))\n",
    "     print(\"Original Array:\", arrd_2D)\n",
    "     if arrd_2D.ndim == 2:\n",
    "        arrd_2D_copy = arrd_2D.copy()\n",
    "        square_mask = np.where(arrd_2D_copy %  2 == 0, np.square(arrd_2D_copy), arrd_2D_copy)\n",
    "        odd_mask = np.where(square_mask % 2 != 0, -1, square_mask)\n",
    "        return odd_mask\n",
    "     else:\n",
    "         print(\"Array not the right dimension\")"
   ]
  }
 ],
 "metadata": {
  "kernelspec": {
   "display_name": "vire (3.13.7)",
   "language": "python",
   "name": "python3"
  },
  "language_info": {
   "codemirror_mode": {
    "name": "ipython",
    "version": 3
   },
   "file_extension": ".py",
   "mimetype": "text/x-python",
   "name": "python",
   "nbconvert_exporter": "python",
   "pygments_lexer": "ipython3",
   "version": "3.13.7"
  }
 },
 "nbformat": 4,
 "nbformat_minor": 5
}
