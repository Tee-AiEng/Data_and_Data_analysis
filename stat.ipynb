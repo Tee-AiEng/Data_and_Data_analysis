{
 "cells": [
  {
   "cell_type": "code",
   "execution_count": 18,
   "id": "95381282",
   "metadata": {},
   "outputs": [],
   "source": [
    "import numpy as np\n",
    "import pandas as pd\n",
    "import matplotlib.pyplot as plt\n",
    "import scipy.stats as stats\n",
    "import seaborn as sns"
   ]
  },
  {
   "cell_type": "code",
   "execution_count": 2,
   "id": "32abc1a7",
   "metadata": {},
   "outputs": [],
   "source": [
    "np.random.seed(42)"
   ]
  },
  {
   "cell_type": "code",
   "execution_count": 30,
   "id": "bb7a0c7c",
   "metadata": {},
   "outputs": [
    {
     "data": {
      "text/plain": [
       "array([16, 11, 10,  5, 18, 15, 14,  8,  6,  7, 10, 12, 10, 10, 20, 10,  7,\n",
       "       12, 16, 11,  8,  8,  9,  8, 14, 12,  6,  9,  7, 12,  9, 11, 13, 11,\n",
       "       12, 14, 12, 12, 13, 10, 14, 11,  9, 11, 15, 12, 13,  9, 14, 16, 10,\n",
       "       11, 12, 11, 17, 11, 22, 14, 11, 13,  9, 11, 11, 14, 14,  9, 12, 15,\n",
       "       12, 15, 15,  8, 13,  8, 13, 17, 13, 12,  9, 10,  9, 17,  8, 14, 15,\n",
       "       14, 19, 10,  8,  9,  9, 15, 11,  9, 10, 17,  9,  5,  9, 11],\n",
       "      dtype=int32)"
      ]
     },
     "execution_count": 30,
     "metadata": {},
     "output_type": "execute_result"
    }
   ],
   "source": [
    "traditional_study_hours = np.random.normal(25, 5, 100)\n",
    "accelerated_study_hours = np.random.normal(35, 8, 100) \n",
    "traditional_scores = np.random.normal(75, 12, 100)  \n",
    "accelerated_scores = np.random.normal(82, 15, 100)\n",
    "traditional_projects = np.random.poisson(8, 100)\n",
    "accelerated_projects = np.random.poisson(12, 100)\n",
    "accelerated_projects"
   ]
  },
  {
   "cell_type": "code",
   "execution_count": 32,
   "id": "07fba747",
   "metadata": {},
   "outputs": [],
   "source": [
    "data = pd.DataFrame({\n",
    "    'Study_Hours_Per_Week': np.concatenate([traditional_study_hours, accelerated_study_hours]),\n",
    "    'Performance_Score': np.concatenate([traditional_scores, accelerated_scores]),\n",
    "    'Projects_Completed': np.concatenate([traditional_projects, accelerated_projects]),\n",
    "    'Learning_Track': ['Traditional'] * 100 + ['Accelerated'] * 100\n",
    "})"
   ]
  },
  {
   "cell_type": "code",
   "execution_count": 33,
   "id": "2b16df71",
   "metadata": {},
   "outputs": [
    {
     "data": {
      "text/html": [
       "<div>\n",
       "<style scoped>\n",
       "    .dataframe tbody tr th:only-of-type {\n",
       "        vertical-align: middle;\n",
       "    }\n",
       "\n",
       "    .dataframe tbody tr th {\n",
       "        vertical-align: top;\n",
       "    }\n",
       "\n",
       "    .dataframe thead th {\n",
       "        text-align: right;\n",
       "    }\n",
       "</style>\n",
       "<table border=\"1\" class=\"dataframe\">\n",
       "  <thead>\n",
       "    <tr style=\"text-align: right;\">\n",
       "      <th></th>\n",
       "      <th>Study_Hours_Per_Week</th>\n",
       "      <th>Performance_Score</th>\n",
       "      <th>Projects_Completed</th>\n",
       "      <th>Learning_Track</th>\n",
       "    </tr>\n",
       "  </thead>\n",
       "  <tbody>\n",
       "    <tr>\n",
       "      <th>0</th>\n",
       "      <td>20.095413</td>\n",
       "      <td>79.553785</td>\n",
       "      <td>3</td>\n",
       "      <td>Traditional</td>\n",
       "    </tr>\n",
       "    <tr>\n",
       "      <th>1</th>\n",
       "      <td>18.360410</td>\n",
       "      <td>96.738058</td>\n",
       "      <td>2</td>\n",
       "      <td>Traditional</td>\n",
       "    </tr>\n",
       "    <tr>\n",
       "      <th>2</th>\n",
       "      <td>28.401327</td>\n",
       "      <td>74.008227</td>\n",
       "      <td>8</td>\n",
       "      <td>Traditional</td>\n",
       "    </tr>\n",
       "    <tr>\n",
       "      <th>3</th>\n",
       "      <td>30.789074</td>\n",
       "      <td>65.051797</td>\n",
       "      <td>9</td>\n",
       "      <td>Traditional</td>\n",
       "    </tr>\n",
       "    <tr>\n",
       "      <th>4</th>\n",
       "      <td>22.742952</td>\n",
       "      <td>59.803914</td>\n",
       "      <td>10</td>\n",
       "      <td>Traditional</td>\n",
       "    </tr>\n",
       "  </tbody>\n",
       "</table>\n",
       "</div>"
      ],
      "text/plain": [
       "   Study_Hours_Per_Week  Performance_Score  Projects_Completed Learning_Track\n",
       "0             20.095413          79.553785                   3    Traditional\n",
       "1             18.360410          96.738058                   2    Traditional\n",
       "2             28.401327          74.008227                   8    Traditional\n",
       "3             30.789074          65.051797                   9    Traditional\n",
       "4             22.742952          59.803914                  10    Traditional"
      ]
     },
     "execution_count": 33,
     "metadata": {},
     "output_type": "execute_result"
    }
   ],
   "source": [
    "data.head()"
   ]
  },
  {
   "cell_type": "code",
   "execution_count": null,
   "id": "479f0c5b",
   "metadata": {},
   "outputs": [
    {
     "data": {
      "text/html": [
       "<div>\n",
       "<style scoped>\n",
       "    .dataframe tbody tr th:only-of-type {\n",
       "        vertical-align: middle;\n",
       "    }\n",
       "\n",
       "    .dataframe tbody tr th {\n",
       "        vertical-align: top;\n",
       "    }\n",
       "\n",
       "    .dataframe thead th {\n",
       "        text-align: right;\n",
       "    }\n",
       "</style>\n",
       "<table border=\"1\" class=\"dataframe\">\n",
       "  <thead>\n",
       "    <tr style=\"text-align: right;\">\n",
       "      <th></th>\n",
       "      <th>Study_Hours_Per_Week</th>\n",
       "      <th>Performance_Score</th>\n",
       "      <th>Projects_Completed</th>\n",
       "      <th>Learning_Track</th>\n",
       "    </tr>\n",
       "  </thead>\n",
       "  <tbody>\n",
       "    <tr>\n",
       "      <th>195</th>\n",
       "      <td>31.403392</td>\n",
       "      <td>48.883736</td>\n",
       "      <td>17</td>\n",
       "      <td>Accelerated</td>\n",
       "    </tr>\n",
       "    <tr>\n",
       "      <th>196</th>\n",
       "      <td>43.140010</td>\n",
       "      <td>78.697081</td>\n",
       "      <td>9</td>\n",
       "      <td>Accelerated</td>\n",
       "    </tr>\n",
       "    <tr>\n",
       "      <th>197</th>\n",
       "      <td>56.305459</td>\n",
       "      <td>50.982179</td>\n",
       "      <td>5</td>\n",
       "      <td>Accelerated</td>\n",
       "    </tr>\n",
       "    <tr>\n",
       "      <th>198</th>\n",
       "      <td>32.635670</td>\n",
       "      <td>88.780500</td>\n",
       "      <td>9</td>\n",
       "      <td>Accelerated</td>\n",
       "    </tr>\n",
       "    <tr>\n",
       "      <th>199</th>\n",
       "      <td>36.218524</td>\n",
       "      <td>63.399096</td>\n",
       "      <td>11</td>\n",
       "      <td>Accelerated</td>\n",
       "    </tr>\n",
       "  </tbody>\n",
       "</table>\n",
       "</div>"
      ],
      "text/plain": [
       "     Study_Hours_Per_Week  Performance_Score  Projects_Completed  \\\n",
       "195             31.403392          48.883736                  17   \n",
       "196             43.140010          78.697081                   9   \n",
       "197             56.305459          50.982179                   5   \n",
       "198             32.635670          88.780500                   9   \n",
       "199             36.218524          63.399096                  11   \n",
       "\n",
       "    Learning_Track  \n",
       "195    Accelerated  \n",
       "196    Accelerated  \n",
       "197    Accelerated  \n",
       "198    Accelerated  \n",
       "199    Accelerated  "
      ]
     },
     "execution_count": 34,
     "metadata": {},
     "output_type": "execute_result"
    }
   ],
   "source": [
    "data.tail()"
   ]
  },
  {
   "cell_type": "code",
   "execution_count": 40,
   "id": "3c6810a4",
   "metadata": {},
   "outputs": [],
   "source": [
    "data['Study_Hours_Per_Week'] = round(np.clip(data['Study_Hours_Per_Week'], 10, 60),1)  # 10-60 hours/week\n",
    "data['Performance_Score'] = round(np.clip(data['Performance_Score'], 0, 100),1)  # 0-100 score\n",
    "data['Projects_Completed'] = np.clip(data['Projects_Completed'], 1, 25)"
   ]
  },
  {
   "cell_type": "code",
   "execution_count": 41,
   "id": "77e452e1",
   "metadata": {},
   "outputs": [
    {
     "data": {
      "text/html": [
       "<div>\n",
       "<style scoped>\n",
       "    .dataframe tbody tr th:only-of-type {\n",
       "        vertical-align: middle;\n",
       "    }\n",
       "\n",
       "    .dataframe tbody tr th {\n",
       "        vertical-align: top;\n",
       "    }\n",
       "\n",
       "    .dataframe thead th {\n",
       "        text-align: right;\n",
       "    }\n",
       "</style>\n",
       "<table border=\"1\" class=\"dataframe\">\n",
       "  <thead>\n",
       "    <tr style=\"text-align: right;\">\n",
       "      <th></th>\n",
       "      <th>Study_Hours_Per_Week</th>\n",
       "      <th>Performance_Score</th>\n",
       "      <th>Projects_Completed</th>\n",
       "      <th>Learning_Track</th>\n",
       "    </tr>\n",
       "  </thead>\n",
       "  <tbody>\n",
       "    <tr>\n",
       "      <th>0</th>\n",
       "      <td>20.1</td>\n",
       "      <td>79.6</td>\n",
       "      <td>3</td>\n",
       "      <td>Traditional</td>\n",
       "    </tr>\n",
       "    <tr>\n",
       "      <th>1</th>\n",
       "      <td>18.4</td>\n",
       "      <td>96.7</td>\n",
       "      <td>2</td>\n",
       "      <td>Traditional</td>\n",
       "    </tr>\n",
       "    <tr>\n",
       "      <th>2</th>\n",
       "      <td>28.4</td>\n",
       "      <td>74.0</td>\n",
       "      <td>8</td>\n",
       "      <td>Traditional</td>\n",
       "    </tr>\n",
       "    <tr>\n",
       "      <th>3</th>\n",
       "      <td>30.8</td>\n",
       "      <td>65.1</td>\n",
       "      <td>9</td>\n",
       "      <td>Traditional</td>\n",
       "    </tr>\n",
       "    <tr>\n",
       "      <th>4</th>\n",
       "      <td>22.7</td>\n",
       "      <td>59.8</td>\n",
       "      <td>10</td>\n",
       "      <td>Traditional</td>\n",
       "    </tr>\n",
       "  </tbody>\n",
       "</table>\n",
       "</div>"
      ],
      "text/plain": [
       "   Study_Hours_Per_Week  Performance_Score  Projects_Completed Learning_Track\n",
       "0                  20.1               79.6                   3    Traditional\n",
       "1                  18.4               96.7                   2    Traditional\n",
       "2                  28.4               74.0                   8    Traditional\n",
       "3                  30.8               65.1                   9    Traditional\n",
       "4                  22.7               59.8                  10    Traditional"
      ]
     },
     "execution_count": 41,
     "metadata": {},
     "output_type": "execute_result"
    }
   ],
   "source": [
    "data.head()"
   ]
  },
  {
   "cell_type": "code",
   "execution_count": 53,
   "id": "f9db4d09",
   "metadata": {},
   "outputs": [
    {
     "name": "stdout",
     "output_type": "stream",
     "text": [
      "Total AI Engineering Students: 200\n",
      "Learning Tracks: ['Traditional' 'Accelerated']\n",
      "\n",
      "First 10 students in our dataset:\n",
      "   Study_Hours_Per_Week  Performance_Score  Projects_Completed Learning_Track\n",
      "0                  20.1               79.6                   3    Traditional\n",
      "1                  18.4               96.7                   2    Traditional\n",
      "2                  28.4               74.0                   8    Traditional\n",
      "3                  30.8               65.1                   9    Traditional\n",
      "4                  22.7               59.8                  10    Traditional\n",
      "5                  22.8               74.3                   4    Traditional\n",
      "6                  26.4               69.6                   6    Traditional\n",
      "7                  21.5               99.1                   7    Traditional\n",
      "8                  21.1               96.2                   7    Traditional\n",
      "9                  29.4               62.6                   4    Traditional\n"
     ]
    }
   ],
   "source": [
    "\n",
    "print(f\"Total AI Engineering Students: {len(data)}\")\n",
    "print(f\"Learning Tracks: {data['Learning_Track'].unique()}\")\n",
    "print(\"\\nFirst 10 students in our dataset:\")\n",
    "print(data.head(10).round(1))\n"
   ]
  },
  {
   "cell_type": "code",
   "execution_count": 58,
   "id": "5fde7f31",
   "metadata": {},
   "outputs": [
    {
     "data": {
      "text/html": [
       "<div>\n",
       "<style scoped>\n",
       "    .dataframe tbody tr th:only-of-type {\n",
       "        vertical-align: middle;\n",
       "    }\n",
       "\n",
       "    .dataframe tbody tr th {\n",
       "        vertical-align: top;\n",
       "    }\n",
       "\n",
       "    .dataframe thead th {\n",
       "        text-align: right;\n",
       "    }\n",
       "</style>\n",
       "<table border=\"1\" class=\"dataframe\">\n",
       "  <thead>\n",
       "    <tr style=\"text-align: right;\">\n",
       "      <th></th>\n",
       "      <th>count</th>\n",
       "      <th>mean</th>\n",
       "      <th>std</th>\n",
       "      <th>min</th>\n",
       "      <th>25%</th>\n",
       "      <th>50%</th>\n",
       "      <th>75%</th>\n",
       "      <th>max</th>\n",
       "    </tr>\n",
       "    <tr>\n",
       "      <th>Learning_Track</th>\n",
       "      <th></th>\n",
       "      <th></th>\n",
       "      <th></th>\n",
       "      <th></th>\n",
       "      <th></th>\n",
       "      <th></th>\n",
       "      <th></th>\n",
       "      <th></th>\n",
       "    </tr>\n",
       "  </thead>\n",
       "  <tbody>\n",
       "    <tr>\n",
       "      <th>Accelerated</th>\n",
       "      <td>100.0</td>\n",
       "      <td>34.84</td>\n",
       "      <td>8.26</td>\n",
       "      <td>12.0</td>\n",
       "      <td>29.72</td>\n",
       "      <td>34.75</td>\n",
       "      <td>40.2</td>\n",
       "      <td>56.3</td>\n",
       "    </tr>\n",
       "    <tr>\n",
       "      <th>Traditional</th>\n",
       "      <td>100.0</td>\n",
       "      <td>25.16</td>\n",
       "      <td>4.79</td>\n",
       "      <td>14.5</td>\n",
       "      <td>21.42</td>\n",
       "      <td>25.80</td>\n",
       "      <td>28.6</td>\n",
       "      <td>36.5</td>\n",
       "    </tr>\n",
       "  </tbody>\n",
       "</table>\n",
       "</div>"
      ],
      "text/plain": [
       "                count   mean   std   min    25%    50%   75%   max\n",
       "Learning_Track                                                    \n",
       "Accelerated     100.0  34.84  8.26  12.0  29.72  34.75  40.2  56.3\n",
       "Traditional     100.0  25.16  4.79  14.5  21.42  25.80  28.6  36.5"
      ]
     },
     "execution_count": 58,
     "metadata": {},
     "output_type": "execute_result"
    }
   ],
   "source": [
    "data.groupby('Learning_Track')['Study_Hours_Per_Week'].describe().round(2)\n"
   ]
  },
  {
   "cell_type": "code",
   "execution_count": 59,
   "id": "8b3e4953",
   "metadata": {},
   "outputs": [
    {
     "data": {
      "text/html": [
       "<div>\n",
       "<style scoped>\n",
       "    .dataframe tbody tr th:only-of-type {\n",
       "        vertical-align: middle;\n",
       "    }\n",
       "\n",
       "    .dataframe tbody tr th {\n",
       "        vertical-align: top;\n",
       "    }\n",
       "\n",
       "    .dataframe thead th {\n",
       "        text-align: right;\n",
       "    }\n",
       "</style>\n",
       "<table border=\"1\" class=\"dataframe\">\n",
       "  <thead>\n",
       "    <tr style=\"text-align: right;\">\n",
       "      <th></th>\n",
       "      <th>count</th>\n",
       "      <th>mean</th>\n",
       "      <th>std</th>\n",
       "      <th>min</th>\n",
       "      <th>25%</th>\n",
       "      <th>50%</th>\n",
       "      <th>75%</th>\n",
       "      <th>max</th>\n",
       "    </tr>\n",
       "    <tr>\n",
       "      <th>Learning_Track</th>\n",
       "      <th></th>\n",
       "      <th></th>\n",
       "      <th></th>\n",
       "      <th></th>\n",
       "      <th></th>\n",
       "      <th></th>\n",
       "      <th></th>\n",
       "      <th></th>\n",
       "    </tr>\n",
       "  </thead>\n",
       "  <tbody>\n",
       "    <tr>\n",
       "      <th>Accelerated</th>\n",
       "      <td>100.0</td>\n",
       "      <td>81.72</td>\n",
       "      <td>13.91</td>\n",
       "      <td>46.0</td>\n",
       "      <td>73.65</td>\n",
       "      <td>84.05</td>\n",
       "      <td>92.93</td>\n",
       "      <td>100.0</td>\n",
       "    </tr>\n",
       "    <tr>\n",
       "      <th>Traditional</th>\n",
       "      <td>100.0</td>\n",
       "      <td>75.62</td>\n",
       "      <td>10.83</td>\n",
       "      <td>48.1</td>\n",
       "      <td>68.35</td>\n",
       "      <td>75.55</td>\n",
       "      <td>82.20</td>\n",
       "      <td>99.1</td>\n",
       "    </tr>\n",
       "  </tbody>\n",
       "</table>\n",
       "</div>"
      ],
      "text/plain": [
       "                count   mean    std   min    25%    50%    75%    max\n",
       "Learning_Track                                                       \n",
       "Accelerated     100.0  81.72  13.91  46.0  73.65  84.05  92.93  100.0\n",
       "Traditional     100.0  75.62  10.83  48.1  68.35  75.55  82.20   99.1"
      ]
     },
     "execution_count": 59,
     "metadata": {},
     "output_type": "execute_result"
    }
   ],
   "source": [
    "data.groupby('Learning_Track')['Performance_Score'].describe().round(2)"
   ]
  },
  {
   "cell_type": "code",
   "execution_count": 68,
   "id": "1beb9bab",
   "metadata": {},
   "outputs": [
    {
     "name": "stdout",
     "output_type": "stream",
     "text": [
      "\n",
      "=== VISUAL REPRESENTATION ===\n",
      "\n",
      "Traditional Learning Track (n=100 students):\n",
      "  Study Hours per Week:\n",
      "    Mean: 25.2 hours\n",
      "    Median: 25.8 hours\n",
      "    Standard Deviation: 4.8 hours\n",
      "  Performance Scores:\n",
      "    Mean: 75.6\n",
      "    Median: 75.6\n",
      "    Standard Deviation: 10.8\n",
      "  Projects Completed:\n",
      "    Mean: 7.7 projects\n",
      "    Median: 8.0 projects\n",
      "    Range: 2 - 14 projects\n",
      "\n",
      "Accelerated Learning Track (n=100 students):\n",
      "  Study Hours per Week:\n",
      "    Mean: 34.8 hours\n",
      "    Median: 34.8 hours\n",
      "    Standard Deviation: 8.3 hours\n",
      "  Performance Scores:\n",
      "    Mean: 81.7\n",
      "    Median: 84.0\n",
      "    Standard Deviation: 13.9\n",
      "  Projects Completed:\n",
      "    Mean: 11.6 projects\n",
      "    Median: 11.0 projects\n",
      "    Range: 5 - 22 projects\n"
     ]
    }
   ],
   "source": [
    "print(\"\\n=== VISUAL REPRESENTATION ===\")\n",
    "for track in ['Traditional', 'Accelerated']:\n",
    "    track_data = data[data['Learning_Track'] == track]\n",
    "    print(f\"\\n{track} Learning Track (n={len(track_data)} students):\")\n",
    "    print(\"  Study Hours per Week:\")\n",
    "    print(f\"    Mean: {track_data['Study_Hours_Per_Week'].mean():.1f} hours\")\n",
    "    print(f\"    Median: {track_data['Study_Hours_Per_Week'].median():.1f} hours\")\n",
    "    print(f\"    Standard Deviation: {track_data['Study_Hours_Per_Week'].std():.1f} hours\")\n",
    "    \n",
    "    print(\"  Performance Scores:\")\n",
    "    print(f\"    Mean: {track_data['Performance_Score'].mean():.1f}\")\n",
    "    print(f\"    Median: {track_data['Performance_Score'].median():.1f}\")\n",
    "    print(f\"    Standard Deviation: {track_data['Performance_Score'].std():.1f}\")\n",
    "    \n",
    "    print(\"  Projects Completed:\")\n",
    "    print(f\"    Mean: {track_data['Projects_Completed'].mean():.1f} projects\")\n",
    "    print(f\"    Median: {track_data['Projects_Completed'].median():.1f} projects\")\n",
    "    print(f\"    Range: {track_data['Projects_Completed'].min()} - {track_data['Projects_Completed'].max()} projects\")"
   ]
  },
  {
   "cell_type": "code",
   "execution_count": 63,
   "id": "2a29daab",
   "metadata": {},
   "outputs": [
    {
     "data": {
      "text/html": [
       "<div>\n",
       "<style scoped>\n",
       "    .dataframe tbody tr th:only-of-type {\n",
       "        vertical-align: middle;\n",
       "    }\n",
       "\n",
       "    .dataframe tbody tr th {\n",
       "        vertical-align: top;\n",
       "    }\n",
       "\n",
       "    .dataframe thead th {\n",
       "        text-align: right;\n",
       "    }\n",
       "</style>\n",
       "<table border=\"1\" class=\"dataframe\">\n",
       "  <thead>\n",
       "    <tr style=\"text-align: right;\">\n",
       "      <th></th>\n",
       "      <th>Study_Hours_Per_Week</th>\n",
       "      <th>Performance_Score</th>\n",
       "      <th>Projects_Completed</th>\n",
       "      <th>Learning_Track</th>\n",
       "    </tr>\n",
       "  </thead>\n",
       "  <tbody>\n",
       "    <tr>\n",
       "      <th>100</th>\n",
       "      <td>52.7</td>\n",
       "      <td>80.5</td>\n",
       "      <td>16</td>\n",
       "      <td>Accelerated</td>\n",
       "    </tr>\n",
       "    <tr>\n",
       "      <th>101</th>\n",
       "      <td>32.6</td>\n",
       "      <td>100.0</td>\n",
       "      <td>11</td>\n",
       "      <td>Accelerated</td>\n",
       "    </tr>\n",
       "    <tr>\n",
       "      <th>102</th>\n",
       "      <td>36.0</td>\n",
       "      <td>82.6</td>\n",
       "      <td>10</td>\n",
       "      <td>Accelerated</td>\n",
       "    </tr>\n",
       "    <tr>\n",
       "      <th>103</th>\n",
       "      <td>29.5</td>\n",
       "      <td>84.0</td>\n",
       "      <td>5</td>\n",
       "      <td>Accelerated</td>\n",
       "    </tr>\n",
       "    <tr>\n",
       "      <th>104</th>\n",
       "      <td>49.9</td>\n",
       "      <td>87.6</td>\n",
       "      <td>18</td>\n",
       "      <td>Accelerated</td>\n",
       "    </tr>\n",
       "    <tr>\n",
       "      <th>...</th>\n",
       "      <td>...</td>\n",
       "      <td>...</td>\n",
       "      <td>...</td>\n",
       "      <td>...</td>\n",
       "    </tr>\n",
       "    <tr>\n",
       "      <th>195</th>\n",
       "      <td>31.4</td>\n",
       "      <td>48.9</td>\n",
       "      <td>17</td>\n",
       "      <td>Accelerated</td>\n",
       "    </tr>\n",
       "    <tr>\n",
       "      <th>196</th>\n",
       "      <td>43.1</td>\n",
       "      <td>78.7</td>\n",
       "      <td>9</td>\n",
       "      <td>Accelerated</td>\n",
       "    </tr>\n",
       "    <tr>\n",
       "      <th>197</th>\n",
       "      <td>56.3</td>\n",
       "      <td>51.0</td>\n",
       "      <td>5</td>\n",
       "      <td>Accelerated</td>\n",
       "    </tr>\n",
       "    <tr>\n",
       "      <th>198</th>\n",
       "      <td>32.6</td>\n",
       "      <td>88.8</td>\n",
       "      <td>9</td>\n",
       "      <td>Accelerated</td>\n",
       "    </tr>\n",
       "    <tr>\n",
       "      <th>199</th>\n",
       "      <td>36.2</td>\n",
       "      <td>63.4</td>\n",
       "      <td>11</td>\n",
       "      <td>Accelerated</td>\n",
       "    </tr>\n",
       "  </tbody>\n",
       "</table>\n",
       "<p>100 rows × 4 columns</p>\n",
       "</div>"
      ],
      "text/plain": [
       "     Study_Hours_Per_Week  Performance_Score  Projects_Completed  \\\n",
       "100                  52.7               80.5                  16   \n",
       "101                  32.6              100.0                  11   \n",
       "102                  36.0               82.6                  10   \n",
       "103                  29.5               84.0                   5   \n",
       "104                  49.9               87.6                  18   \n",
       "..                    ...                ...                 ...   \n",
       "195                  31.4               48.9                  17   \n",
       "196                  43.1               78.7                   9   \n",
       "197                  56.3               51.0                   5   \n",
       "198                  32.6               88.8                   9   \n",
       "199                  36.2               63.4                  11   \n",
       "\n",
       "    Learning_Track  \n",
       "100    Accelerated  \n",
       "101    Accelerated  \n",
       "102    Accelerated  \n",
       "103    Accelerated  \n",
       "104    Accelerated  \n",
       "..             ...  \n",
       "195    Accelerated  \n",
       "196    Accelerated  \n",
       "197    Accelerated  \n",
       "198    Accelerated  \n",
       "199    Accelerated  \n",
       "\n",
       "[100 rows x 4 columns]"
      ]
     },
     "execution_count": 63,
     "metadata": {},
     "output_type": "execute_result"
    }
   ],
   "source": [
    "ext_data = data[data[\"Learning_Track\"] == \"Accelerated\"]\n",
    "ext_data\n"
   ]
  },
  {
   "cell_type": "code",
   "execution_count": 67,
   "id": "e6b132c0",
   "metadata": {},
   "outputs": [
    {
     "data": {
      "text/plain": [
       "<Axes: ylabel='Count'>"
      ]
     },
     "execution_count": 67,
     "metadata": {},
     "output_type": "execute_result"
    },
    {
     "data": {
      "image/png": "[encoded data removed]",
      "text/plain": [
       "<Figure size 640x480 with 1 Axes>"
      ]
     },
     "metadata": {},
     "output_type": "display_data"
    }
   ],
   "source": [
    "sns.histplot(ext_data, kde=True)"
   ]
  },
  {
   "cell_type": "code",
   "execution_count": 70,
   "id": "78eec182",
   "metadata": {},
   "outputs": [
    {
     "data": {
      "text/plain": [
       "<matplotlib.legend.Legend at 0x1f8afaea990>"
      ]
     },
     "execution_count": 70,
     "metadata": {},
     "output_type": "execute_result"
    },
    {
     "data": {
      "image/png": "[encoded data removed]",
      "text/plain": [
       "<Figure size 1500x1000 with 6 Axes>"
      ]
     },
     "metadata": {},
     "output_type": "display_data"
    }
   ],
   "source": [
    "fig, axes = plt.subplots(2, 3, figsize=(15,10))\n",
    "\n",
    "\n",
    "for track in ['Traditional', 'Accelerated']:\n",
    "    track_data = data[data[\"Learning_Track\"]==track][\"Study_Hours_Per_Week\"]\n",
    "    axes[0,0].hist(track_data, bins=15, alpha=0.7,\n",
    "                   label=f\"{track} (μ={track_data.mean():.1f})h\",\n",
    "                   color = \"blue\" if track == \"Traditional\" else \"red\")\n",
    "axes[0,0].set_title(\"Weekly Study Hours Distribution\")\n",
    "axes[0,0].set_xlabel(\"Hours per week\")\n",
    "axes[0,0].set_ylabel(\"Number of students\")\n",
    "axes[0,0].legend()"
   ]
  },
  {
   "cell_type": "code",
   "execution_count": null,
   "id": "33b581d6",
   "metadata": {},
   "outputs": [],
   "source": []
  }
 ],
 "metadata": {
  "kernelspec": {
   "display_name": "vire",
   "language": "python",
   "name": "python3"
  },
  "language_info": {
   "codemirror_mode": {
    "name": "ipython",
    "version": 3
   },
   "file_extension": ".py",
   "mimetype": "text/x-python",
   "name": "python",
   "nbconvert_exporter": "python",
   "pygments_lexer": "ipython3",
   "version": "3.13.7"
  }
 },
 "nbformat": 4,
 "nbformat_minor": 5
}
