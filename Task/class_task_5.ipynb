{
 "cells": [
  {
   "cell_type": "markdown",
   "id": "3af159fa",
   "metadata": {},
   "source": [
    "The chi-square statistic is used to show whether or not there is a relationship between two categorical variables. It can also be used to test\n",
    "whether or not a number of outcomes are occurring in equal frequencies or\n",
    "not, or conform to a known distribution. For example, when rolling a die,\n",
    "there are six possible outcomes. After rolling a die hundreds of times, you\n",
    "could tabulate the number of times each outcome occurred and use the chisquare statistic to test whether these outcomes were occurring in basically\n",
    "equal frequencies or not (e.g., to test whether the die is weighted).\n",
    " Chi-square  when you want to compare observed data frequencies against expected frequencies to determine if there's a significant difference or relationship between two categorical variables, or to see if the distribution of a single categorical variable fits an expected pattern. \n",
    "The chisquare statistic was also developed by Karl Pearson.\n",
    "This is the chi-square equation:\n",
    "\n",
    "$$\n",
    "x^2 = \\frac{\\sum^n_{i = 1}({O_i - E_i})^2}{E_i}\n",
    "$$\n",
    "\n",
    "\n",
    "\n",
    "\n",
    "Here,\n",
    "\n",
    "χ2 = the chi-square statistic\n",
    "\n",
    "Oi = the observed frequency\n",
    "\n",
    "Ei = the expected frequency\n",
    "\n",
    "i = the number of the cell (cell 1, cell 2, etc.)\n",
    "\n"
   ]
  },
  {
   "cell_type": "markdown",
   "id": "be9dd258",
   "metadata": {},
   "source": [
    "The ANOVA, which stands for analysis of variance, is like a generalized version of the t-test that can be used to test the difference in a continuous dependent variable between three or more groups or to test the level of a\n",
    "continuous dependent variable in a single group of respondents who were tested at three or more points in time. The t-test was published by William\n",
    "Sealy Gosset in 1908 under the pen name Student, which is why the t-test is\n",
    "sometimes referred to as the Student’s t-test. The ANOVA was developed several decades later by Sir Ronald Fisher, which is why the ANOVA is sometimes\n",
    "called Fisher’s ANOVA.\n",
    "Types of ANOVA \n",
    "One-Way ANOVA: Involves one independent variable (factor) with multiple levels.\n",
    "Two-Way ANOVA: Involves two or more independent variables.\n",
    "N-Way ANOVA: Generalizes to multiple independent variables."
   ]
  }
 ],
 "metadata": {
  "language_info": {
   "name": "python"
  }
 },
 "nbformat": 4,
 "nbformat_minor": 5
}
