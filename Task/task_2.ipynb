{
 "cells": [
  {
   "cell_type": "markdown",
   "id": "0207c8b4",
   "metadata": {},
   "source": [
    "# Task1– Mean, Median & Mode"
   ]
  },
  {
   "cell_type": "markdown",
   "id": "a7e2ba0d",
   "metadata": {},
   "source": [
    "1: Class Test Scores\n",
    "The following are the Mathematics test scores (out of 20) for a class of 15 students:\n",
    " 5, 8, 10, 12, 12, 12, 13, 14, 14, 15, 16, 18, 18, 20, 20\n",
    "Find the mean, median, and mode of the scores.\n",
    "\n",
    "\n",
    "If the lowest score (5) was wrongly recorded and should have been 10, how would the mean change? Would the median or mode change? Explain."
   ]
  },
  {
   "cell_type": "markdown",
   "id": "eec2b428",
   "metadata": {},
   "source": [
    "## Answer\n",
    "1. Mean\n",
    "$$\n",
    "mean =  x^- = \\frac{1}{n}\\sum^n_{i = 1}{x_i} \n",
    "$$\n",
    "\n",
    "using the formular above the mean:\n",
    "$$\n",
    "mean = \\frac{5 + 8 + 10 + 12 + 12 + 12 + 13 + 14 + 14 + 15 + 16 + 18 + 18 + 20 +20}{15}\n",
    "$$\n",
    "\n",
    "\n",
    "mean = 13.8\n",
    "\n",
    "2. Median\n",
    "\n",
    "sorted values =  5, 8, 10, 12, 12, 12, 13, 14, 14, 15, 16, 18, 18, 20, 20\n",
    "$$\n",
    "median = 14\n",
    "$$ \n",
    "\n",
    "3. New mean\n",
    "\n",
    "using the formular above the mean:\n",
    "$$\n",
    "mean = \\frac{10 + 8 + 10 + 12 + 12 + 12 + 13 + 14 + 14 + 15 + 16 + 18 + 18 + 20 +20}{15}\n",
    "$$\n",
    "\n",
    "$$\n",
    "new_mean = 14.13 \n",
    "$$\n",
    "The mean will change because anew number was added\n",
    "\n",
    "\n",
    "3. New_median\n",
    "\n",
    "sorted values =  8, 10, 10, 12, 12, 12, 13, 14, 14, 15, 16, 18, 18, 20, 20\n",
    "$$\n",
    "New_median = 14\n",
    "$$\n",
    "\n",
    "\n",
    "\n"
   ]
  },
  {
   "cell_type": "markdown",
   "id": "b702f3d8",
   "metadata": {},
   "source": [
    "2:\n",
    " Daily Commute Times\n",
    "A group of 9 students reported the time (in minutes) it takes them to get to school each day:\n",
    " 15, 20, 20, 25, 25, 30, 60, 65, 120\n",
    "Find the mean, median, and mode of the data.\n",
    "\n",
    "\n",
    "Which measure (mean, median, or mode) do you think best represents the “typical” time it takes students to get to school? Why?\n",
    " (Hint: Think about the effect of the student who takes 120 minutes.)\n",
    "\n",
    "\n",
    " ## Answer\n",
    " 1. Mean\n",
    "$$\n",
    "mean =  x^- = \\frac{1}{n}\\sum^n_{i = 1}{x_i} \n",
    "$$\n",
    "\n",
    "using the formular above the mean:\n",
    "$$\n",
    "mean = \\frac{15 + 20 + 20 + 25 + 25 + 30 + 60 + 65 + 120}{9}\n",
    "$$\n",
    "\n",
    "$$\n",
    "mean = 42.2\n",
    "$$\n",
    "\n",
    "$$\n",
    "median = 25\n",
    "$$\n",
    "\n",
    "The distribution is bimodal, hence it has two modes which are:\n",
    "$$\n",
    "\n",
    "mode = 20 , 25\n",
    "$$\n",
    "\n",
    "The typical time it takes a student to get to school can be represented using the median, because it represent the 50% of the data."
   ]
  },
  {
   "cell_type": "markdown",
   "id": "ef030dd2",
   "metadata": {},
   "source": [
    "The shoe sizes of students in a class are:\n",
    " 38, 39, 38, 40, 41, 42, 39, 39, 40, 38, 37, 39, 40, 41, 42\n",
    "Find the mode of the data.\n",
    "\n",
    "\n",
    "If a shoe company wants to donate free shoes, which size should they produce most of? Why?\n",
    "\n",
    "\n",
    "What if they only want to produce one size that would fit the \"average\" student? Should they use mean, median, or mode? Defend your answer."
   ]
  },
  {
   "cell_type": "markdown",
   "id": "fcedb75c",
   "metadata": {},
   "source": [
    "## Answeer\n",
    "we sort the data first:\n",
    "\n",
    "37, 38, 38, 39, 39,  39, 39, 40, 40, 40, 41, 41 42, 42   \n",
    "\n",
    "The shoesize with the highest frequency is our mode, therefore:\n",
    "$$\n",
    "mode = 39 \n",
    "$$\n",
    "\n",
    "\n",
    "they should produce more of size 39 because it has the highest frequenc i.e highest number of people are wearing it.\n",
    "\n",
    "The mode is the best mearsure to be use to produce a size that fits the average size beacuse it the most frequent and aligns with median\n"
   ]
  }
 ],
 "metadata": {
  "language_info": {
   "name": "python"
  }
 },
 "nbformat": 4,
 "nbformat_minor": 5
}
