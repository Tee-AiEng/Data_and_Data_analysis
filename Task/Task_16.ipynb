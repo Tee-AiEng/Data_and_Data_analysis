{
 "cells": [
  {
   "cell_type": "markdown",
   "id": "9940c18d",
   "metadata": {},
   "source": [
    "### Linear Algebra"
   ]
  },
  {
   "cell_type": "code",
   "execution_count": 1,
   "id": "bfb01f04",
   "metadata": {},
   "outputs": [],
   "source": [
    "import numpy as np"
   ]
  },
  {
   "cell_type": "code",
   "execution_count": 2,
   "id": "5ce9f1d2",
   "metadata": {},
   "outputs": [],
   "source": [
    "A = [[2, - 1], [0, 3]] \n",
    "B = [[1, 4], [- 2, 5]] \n",
    "c = 2\n",
    "d = 3"
   ]
  },
  {
   "cell_type": "code",
   "execution_count": 4,
   "id": "114b389b",
   "metadata": {},
   "outputs": [
    {
     "name": "stdout",
     "output_type": "stream",
     "text": [
      "Matrix A:\n",
      " [[ 2 -1]\n",
      " [ 0  3]]\n",
      "Matrix B:\n",
      " [[ 1  4]\n",
      " [-2  5]]\n"
     ]
    }
   ],
   "source": [
    "v_A = np.array([[2, - 1], [0, 3]])\n",
    "v_B = np.array([[1, 4], [- 2, 5]])\n",
    "\n",
    "print(f\"Matrix A:\\n {v_A}\")\n",
    "\n",
    "print(f\"Matrix B:\\n {v_B}\")"
   ]
  },
  {
   "cell_type": "code",
   "execution_count": 5,
   "id": "a5d81d45",
   "metadata": {},
   "outputs": [
    {
     "name": "stdout",
     "output_type": "stream",
     "text": [
      "Scaled Matrix A:\n",
      " [[ 4 -2]\n",
      " [ 0  6]]\n",
      "Scaled Matrix B:\n",
      " [[ 3 12]\n",
      " [-6 15]]\n"
     ]
    }
   ],
   "source": [
    "# Scalar Multiplication\n",
    "scaled_A = c * v_A\n",
    "scaled_B = d * v_B\n",
    "\n",
    "print(f\"Scaled Matrix A:\\n {scaled_A}\")\n",
    "print(f\"Scaled Matrix B:\\n {scaled_B}\")"
   ]
  },
  {
   "cell_type": "code",
   "execution_count": 7,
   "id": "18e16590",
   "metadata": {},
   "outputs": [
    {
     "name": "stdout",
     "output_type": "stream",
     "text": [
      "(c * d) * A = [[12 -6]\n",
      " [ 0 18]]\n",
      "c * (d * A) = [[12 -6]\n",
      " [ 0 18]]\n",
      "Associative: True\n"
     ]
    }
   ],
   "source": [
    "# Verify the Scalar Multiplication Properties\n",
    "# Associative: c(d*A) = (c*d)A\n",
    "cd_A = (c * d) * v_A\n",
    "c_dA = c * (d * v_A)\n",
    "\n",
    "print(f\"(c * d) * A = {cd_A}\")\n",
    "print(f\"c * (d * A) = {c_dA}\")\n",
    "print(f\"Associative: {np.array_equal(cd_A, c_dA)}\")"
   ]
  },
  {
   "cell_type": "code",
   "execution_count": 9,
   "id": "da51f71e",
   "metadata": {},
   "outputs": [
    {
     "name": "stdout",
     "output_type": "stream",
     "text": [
      " c(A+B) = [[ 6  6]\n",
      " [-4 16]]\n",
      "cA + cB = [[ 6  6]\n",
      " [-4 16]]\n",
      "Distributive: True\n"
     ]
    }
   ],
   "source": [
    "# Distributive: c(A+B) = cA + cB\n",
    "c_A_B = c * (v_A + v_B)\n",
    "cA_cB = (c * v_A ) + (c* v_B)\n",
    "\n",
    "print(f\" c(A+B) = {c_A_B}\")\n",
    "print(f\"cA + cB = {cA_cB}\")\n",
    "print(f\"Distributive: {np.array_equal(c_A_B, cA_cB)}\")"
   ]
  },
  {
   "cell_type": "code",
   "execution_count": null,
   "id": "6cda1002",
   "metadata": {},
   "outputs": [
    {
     "name": "stdout",
     "output_type": "stream",
     "text": [
      "\n",
      "Transpose A^T:\n",
      "[[ 2  0]\n",
      " [-1  3]]\n"
     ]
    }
   ],
   "source": [
    "# Find the transpose of both matrices:\n",
    "v_A = np.array([[2, - 1], [0, 3]])\n",
    "print(\"\\nTranspose A^T:\")\n",
    "print(v_A.T)"
   ]
  },
  {
   "cell_type": "code",
   "execution_count": 11,
   "id": "ba5c8e13",
   "metadata": {},
   "outputs": [
    {
     "name": "stdout",
     "output_type": "stream",
     "text": [
      "\n",
      "Transpose B^T:\n",
      "[[ 1 -2]\n",
      " [ 4  5]]\n"
     ]
    }
   ],
   "source": [
    "v_B = np.array([[1, 4], [- 2, 5]])\n",
    "print(\"\\nTranspose B^T:\")\n",
    "print(v_B.T)"
   ]
  },
  {
   "cell_type": "code",
   "execution_count": 12,
   "id": "3fd25e67",
   "metadata": {},
   "outputs": [
    {
     "name": "stdout",
     "output_type": "stream",
     "text": [
      "\n",
      "Inverse A^(-1):\n",
      "[[0.5        0.16666667]\n",
      " [0.         0.33333333]]\n"
     ]
    }
   ],
   "source": [
    "#find inverse of the matrices\n",
    "v_A = np.array([[2, - 1], [0, 3]])\n",
    "print(\"\\nInverse A^(-1):\")\n",
    "print(np.linalg.inv(v_A))"
   ]
  },
  {
   "cell_type": "code",
   "execution_count": 13,
   "id": "8e6db142",
   "metadata": {},
   "outputs": [
    {
     "name": "stdout",
     "output_type": "stream",
     "text": [
      "\n",
      "Inverse B^(-1):\n",
      "[[ 0.38461538 -0.30769231]\n",
      " [ 0.15384615  0.07692308]]\n"
     ]
    }
   ],
   "source": [
    "v_B = np.array([[1, 4], [- 2, 5]])\n",
    "print(\"\\nInverse B^(-1):\")\n",
    "print(np.linalg.inv(v_B))"
   ]
  },
  {
   "cell_type": "code",
   "execution_count": 14,
   "id": "be41d651",
   "metadata": {},
   "outputs": [
    {
     "name": "stdout",
     "output_type": "stream",
     "text": [
      "\n",
      "Determinant |A|:\n",
      "6.0\n"
     ]
    }
   ],
   "source": [
    "v_A = np.array([[2, - 1], [0, 3]])\n",
    "print(\"\\nDeterminant |A|:\")\n",
    "print(np.linalg.det(v_A))\n",
    "\n"
   ]
  },
  {
   "cell_type": "code",
   "execution_count": 15,
   "id": "05cd1585",
   "metadata": {},
   "outputs": [
    {
     "name": "stdout",
     "output_type": "stream",
     "text": [
      "\n",
      "Determinant |A|:\n",
      "13.0\n"
     ]
    }
   ],
   "source": [
    "v_B = np.array([[1, 4], [- 2, 5]])\n",
    "print(\"\\nDeterminant |A|:\")\n",
    "print(np.linalg.det(v_B))\n"
   ]
  }
 ],
 "metadata": {
  "kernelspec": {
   "display_name": "vire",
   "language": "python",
   "name": "python3"
  },
  "language_info": {
   "codemirror_mode": {
    "name": "ipython",
    "version": 3
   },
   "file_extension": ".py",
   "mimetype": "text/x-python",
   "name": "python",
   "nbconvert_exporter": "python",
   "pygments_lexer": "ipython3",
   "version": "3.13.7"
  }
 },
 "nbformat": 4,
 "nbformat_minor": 5
}
