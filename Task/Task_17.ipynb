{
 "cells": [
  {
   "cell_type": "markdown",
   "id": "bd14abdb",
   "metadata": {},
   "source": [
    "### Linear Algebra Case Study"
   ]
  },
  {
   "cell_type": "markdown",
   "id": "de78ff77",
   "metadata": {},
   "source": [
    "2. Problem Setup\n",
    "\n",
    "We have the scores of 4 students in 3 subjects (Mathematics, English, Science):\n",
    "\n",
    "Student Math English Science\n",
    "\n",
    "Student 1 80 70 90\n",
    "\n",
    "Student 2 60 85 75\n",
    "\n",
    "Student 3 95 88 92\n",
    "\n",
    "Student 4 70 60 65\n"
   ]
  },
  {
   "cell_type": "markdown",
   "id": "58e885d7",
   "metadata": {},
   "source": [
    "## 3.1 Representing Data as a Matrix\n",
    "let A =\n",
    "\\begin{bmatrix}\n",
    "80 & 70 & 90 \\\\ 60 & 85 & 75 \\\\ 95 & 88 & 92 \\\\ 70 & 60 & 65\n",
    "\\end{bmatrix}\n",
    "\n",
    "## 3.2 Total Scores per Student (Vector Addition)\n",
    "\n",
    "summing across the row vector.\n",
    "\n",
    " Total student 1 scores [80, 70, 90] = 240\n",
    "\n",
    " Total student 2 scores [60, 85, 75] = 220\n",
    "\n",
    " Total student 3 scores [95, 88, 92] = 275\n",
    "\n",
    " Total student 4 scores [70, 60, 65] = 195\n",
    " \n",
    "let Total score =\n",
    "\\begin{bmatrix}\n",
    "240 \\\\ 220 \\\\ 275 \\\\ 195\n",
    "\\end{bmatrix}\n",
    "\n",
    "## 3.3 Applying Weights (Scalar Multiplication)\n",
    "\n",
    "let A =\n",
    "\\begin{bmatrix}\n",
    "80 & 70 & 90 \\\\ 60 & 85 & 75 \\\\ 95 & 88 & 92 \\\\ 70 & 60 & 65\n",
    "\\end{bmatrix}\n",
    "\n",
    "let Scalar = 2\n",
    "\n",
    "scale the vector across the first colunm:\n",
    "R_s =\n",
    "\\begin{bmatrix}\n",
    "80 \\\\ 60 \\\\ 95 \\\\ 70 \n",
    "\\end{bmatrix}     × 2  = \n",
    "\n",
    "\\begin{bmatrix}\n",
    "160 \\\\ 120 \\\\ 190 \\\\ 140\n",
    "\\end{bmatrix} \n",
    "\n",
    "Scaled A (along the first colunm) =\n",
    "\n",
    "\\begin{bmatrix}\n",
    "160 & 70 & 90 \\\\ 120 & 85 & 75 \\\\ 190 & 88 & 92 \\\\ 140 & 60 & 65\n",
    "\\end{bmatrix}\n",
    "\n",
    "\n",
    "\n",
    "## 3.4 Average Score per Subject (Matrix Operations)\n",
    "Average score for each subject(Math):\n",
    "\\begin{bmatrix}\n",
    "80 \\\\ 60 \\\\ 95 \\\\ 70 \n",
    "\\end{bmatrix}     / 4 =  76.25\n",
    "\n",
    "Average score for each subject(English):\n",
    "\\begin{bmatrix}\n",
    "70 \\\\ 85 \\\\ 88 \\\\ 60\n",
    "\\end{bmatrix}     / 4 =  75.75\n",
    "\n",
    "Average score for each subject(Science):\n",
    "\\begin{bmatrix}\n",
    "90 \\\\ 75 \\\\ 92 \\\\ 65\n",
    "\\end{bmatrix}     / 4 =  80.5\n",
    "\n",
    "## 3.5 Final Grades using Matrix Multiplication\n",
    "weight vector = ([0.5, 0.3, 0.2])\n",
    "\n",
    "Student Score = \n",
    "\\begin{bmatrix}\n",
    "80 & 70 & 90 \\\\ 60 & 85 & 75 \\\\ 95 & 88 & 92 \\\\ 70 & 60 & 65\n",
    "\\end{bmatrix}\n",
    "\n",
    "Final grade = \n",
    "\\begin{bmatrix}\n",
    "0.5 \\\\ 0.3 \\\\ 0.2\n",
    "\\end{bmatrix}  × \n",
    "\n",
    "\\begin{bmatrix}\n",
    "80 & 70 & 90 \\\\ 60 & 85 & 75 \\\\ 95 & 88 & 92 \\\\ 70 & 60 & 65\n",
    "\\end{bmatrix}  =\n",
    "\n",
    "\\begin{bmatrix}\n",
    "79 \\\\ 70.5 \\\\ 92.3 \\\\ 66\n",
    "\\end{bmatrix}  \n",
    "\n",
    "## 3.6 Comparing Students (Vector Subtraction)\n",
    "\n",
    "\\begin{bmatrix}\n",
    "Student 3 & 95 & 88 & 92 \n",
    "\\end{bmatrix}  -\n",
    "\n",
    "\\begin{bmatrix}\n",
    "Student 2 & 60 & 85 & 75 \n",
    "\\end{bmatrix}\n",
    "\n",
    "=\n",
    "\n",
    "\\begin{bmatrix}\n",
    "35 & 3 & 17\n",
    "\\end{bmatrix}\n",
    "\n",
    "\n",
    "\n",
    "\n",
    " \n",
    "\n"
   ]
  },
  {
   "cell_type": "code",
   "execution_count": 2,
   "id": "db8d9d9c",
   "metadata": {},
   "outputs": [],
   "source": [
    "import numpy as np"
   ]
  },
  {
   "cell_type": "code",
   "execution_count": 3,
   "id": "59bb7447",
   "metadata": {},
   "outputs": [
    {
     "name": "stdout",
     "output_type": "stream",
     "text": [
      "Here is the data represented as a (4×3)\n",
      " [[80 70 90]\n",
      " [60 85 75]\n",
      " [95 88 92]\n",
      " [70 60 65]]\n"
     ]
    }
   ],
   "source": [
    "# 3.1 Representing Data as a Matrix\n",
    "data = np.array([[80, 70, 90],\n",
    "[60, 85, 75],\n",
    "[95, 88, 92],\n",
    "[70, 60, 65]])\n",
    "print(f\"Here is the data represented as a (4×3)\\n {data}\")\n",
    "\n"
   ]
  },
  {
   "cell_type": "code",
   "execution_count": 4,
   "id": "30eedb21",
   "metadata": {},
   "outputs": [
    {
     "name": "stdout",
     "output_type": "stream",
     "text": [
      "Total Score per Student: [240 220 275 195]\n"
     ]
    }
   ],
   "source": [
    "# 3.2 Total Scores per Student (Vector Addition) \n",
    "print(\"Total Score per Student:\", np.sum(data, axis=1))  "
   ]
  },
  {
   "cell_type": "code",
   "execution_count": 5,
   "id": "f3185984",
   "metadata": {},
   "outputs": [
    {
     "name": "stdout",
     "output_type": "stream",
     "text": [
      "\n",
      "Matrix before scalar multiplication on column\n",
      "[[80 70 90]\n",
      " [60 85 75]\n",
      " [95 88 92]\n",
      " [70 60 65]]\n",
      "\n",
      "Maths colunm to be scaled: [80 60 95 70]\n",
      "\n",
      "Matrix after scalar multiplication on column 0 :\n",
      "[[160  70  90]\n",
      " [120  85  75]\n",
      " [190  88  92]\n",
      " [140  60  65]]\n"
     ]
    }
   ],
   "source": [
    "# 3.3 Applying Weights (Scalar Multiplication)\n",
    "data = np.array([[80, 70, 90],\n",
    "[60, 85, 75],\n",
    "[95, 88, 92],\n",
    "[70, 60, 65]])\n",
    "print(\"\\nMatrix before scalar multiplication on column\")\n",
    "print(data)\n",
    "colunm_to_scale = data[:, 0]\n",
    "print(f\"\\nMaths colunm to be scaled: {colunm_to_scale}\")\n",
    "column_index = 0\n",
    "scalar_value = 2\n",
    "\n",
    "data[:, column_index ] *= scalar_value \n",
    "print(\"\\nMatrix after scalar multiplication on column\", column_index, \":\")\n",
    "print(data)\n"
   ]
  },
  {
   "cell_type": "code",
   "execution_count": 6,
   "id": "cb81e231",
   "metadata": {},
   "outputs": [
    {
     "name": "stdout",
     "output_type": "stream",
     "text": [
      "Column means: [76.25 75.75 80.5 ]\n"
     ]
    }
   ],
   "source": [
    "#3.4 Average Score per Subject (Matrix Operations)\n",
    "data1 = np.array([[80, 70, 90],\n",
    "[60, 85, 75],\n",
    "[95, 88, 92],\n",
    "[70, 60, 65]])\n",
    "column_means = np.mean(data1, axis=0)              \n",
    "print(\"Column means:\", column_means)"
   ]
  },
  {
   "cell_type": "code",
   "execution_count": 7,
   "id": "92a345b1",
   "metadata": {},
   "outputs": [
    {
     "name": "stdout",
     "output_type": "stream",
     "text": [
      "Final Grade:\n",
      " [[79. ]\n",
      " [70.5]\n",
      " [92.3]\n",
      " [66. ]]\n"
     ]
    }
   ],
   "source": [
    "# 3.5 Final Grades using Matrix Multiplication\n",
    "data1 = np.array([[80, 70, 90],\n",
    "[60, 85, 75],\n",
    "[95, 88, 92],\n",
    "[70, 60, 65]])\n",
    "weight_vector = np.array([[0.5], [0.3], [0.2]])  \n",
    "final_grade = np.dot(data1, weight_vector)\n",
    "print(f\"Final Grade:\\n {final_grade}\")"
   ]
  },
  {
   "cell_type": "code",
   "execution_count": 8,
   "id": "907f5ce3",
   "metadata": {},
   "outputs": [
    {
     "data": {
      "text/plain": [
       "array([35,  3, 17])"
      ]
     },
     "execution_count": 8,
     "metadata": {},
     "output_type": "execute_result"
    }
   ],
   "source": [
    "# 3.6 Comparing Students (Vector Subtraction)\n",
    "student_3 = np.array([95, 88, 92])\n",
    "student_2 = np.array([60, 85, 75])\n",
    "\n",
    "vector_subtraction = student_3 - student_2\n",
    "\n",
    "vector_subtraction\n",
    "\n"
   ]
  },
  {
   "cell_type": "markdown",
   "id": "30ce7cfb",
   "metadata": {},
   "source": [
    "## 5. Add-on Exercises\n",
    "\n",
    "1. Create a new 5×4 matrix of scores (5 students, 4 subjects). Compute each student’s total\n",
    "score and the average per subject.\n",
    "\n",
    "2. Suppose one subject (e.g., Science) is 3 times more important than others. Apply scalar\n",
    "multiplication and recompute totals.\n",
    "\n",
    "3. Define new weights for grading (e.g., 40%, 20%, 30%, 10%). Compute final grades using\n",
    "matrix multiplication.\n",
    "\n",
    "4. Compare Student 3 and Student 4 using vector subtraction. Who performed better in each\n",
    "subject?"
   ]
  },
  {
   "cell_type": "code",
   "execution_count": 12,
   "id": "c6e5f937",
   "metadata": {},
   "outputs": [
    {
     "name": "stdout",
     "output_type": "stream",
     "text": [
      "Here is the new data represented as a (5×4)\n",
      "[Maths, English, Science, Civic]\n",
      " [[ 97  96  73  78]\n",
      " [ 98 100  92  95]\n",
      " [ 72  81  75  86]\n",
      " [ 75  80  86  78]\n",
      " [ 88  65  75  84]]\n"
     ]
    }
   ],
   "source": [
    "# Create a new 5×4 matrix of scores (5 students, 4 subjects)\n",
    "new_data = np.random.randint(65, 101,(5,4))\n",
    "print(f\"Here is the new data represented as a (5×4)\\n[Maths, English, Science, Civic]\\n {new_data}\")"
   ]
  },
  {
   "cell_type": "code",
   "execution_count": 10,
   "id": "999d07a1",
   "metadata": {},
   "outputs": [
    {
     "name": "stdout",
     "output_type": "stream",
     "text": [
      "Total Score per Student: [347 320 325 350 337]\n",
      "Column means: [76.25 75.75 80.5 ]\n"
     ]
    }
   ],
   "source": [
    "# 1.1 Total Scores per Student (Vector Addition) \n",
    "total_score_per_student = np.sum(new_data, axis=1)\n",
    "print(\"Total Score per Student:\", total_score_per_student) \n",
    "#1.2 Average Score per Subject (Matrix Operations)\n",
    "colu = np.mean(data1, axis=0)              \n",
    "print(\"Column means:\", column_means) "
   ]
  },
  {
   "cell_type": "code",
   "execution_count": null,
   "id": "2d15aaa4",
   "metadata": {},
   "outputs": [],
   "source": []
  },
  {
   "cell_type": "code",
   "execution_count": null,
   "id": "bdcc1f14",
   "metadata": {},
   "outputs": [
    {
     "name": "stdout",
     "output_type": "stream",
     "text": [
      "\n",
      "Matrix before scalar multiplication on column\n",
      "[[ 97  96  73  78]\n",
      " [ 98 100  92  95]\n",
      " [ 72  81  75  86]\n",
      " [ 75  80  86  78]\n",
      " [ 88  65  75  84]]\n",
      "\n",
      "Maths colunm to be scaled: [73 92 75 86 75]\n",
      "\n",
      "Matrix after scalar multiplication on column 2 :\n",
      "[[ 97  96 219  78]\n",
      " [ 98 100 276  95]\n",
      " [ 72  81 225  86]\n",
      " [ 75  80 258  78]\n",
      " [ 88  65 225  84]]\n"
     ]
    }
   ],
   "source": [
    "# 2 Applying Weights (Scalar Multiplication)\n",
    "\n",
    "print(\"\\nMatrix before scalar multiplication on column\")\n",
    "print(new_data)\n",
    "colunm_to_scale = new_data[:, 2]\n",
    "print(f\"\\nScience colunm to be scaled: {colunm_to_scale}\")\n",
    "column_index = 2\n",
    "scalar_value = 3\n",
    "\n",
    "new_data[:, column_index ] *= scalar_value \n",
    "print(\"\\nMatrix after scalar multiplication on column\", column_index, \":\")\n",
    "print(new_data)"
   ]
  }
 ],
 "metadata": {
  "kernelspec": {
   "display_name": "vire",
   "language": "python",
   "name": "python3"
  },
  "language_info": {
   "codemirror_mode": {
    "name": "ipython",
    "version": 3
   },
   "file_extension": ".py",
   "mimetype": "text/x-python",
   "name": "python",
   "nbconvert_exporter": "python",
   "pygments_lexer": "ipython3",
   "version": "3.13.7"
  }
 },
 "nbformat": 4,
 "nbformat_minor": 5
}
