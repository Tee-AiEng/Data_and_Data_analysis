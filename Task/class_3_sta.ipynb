{
 "cells": [
  {
   "cell_type": "markdown",
   "id": "457c8710",
   "metadata": {},
   "source": [
    "find the variance of the following:\n",
    "4, 8, 6, 5, 3\n",
    "\n",
    "## Answer\n",
    "the formular for varaince is as follows:\n",
    "$$\n",
    "variance (σ²) = \\frac{\\sum^n_{i = 1}({x_i - x̄})^2}{n}\n",
    "$$\n",
    "\n",
    "the first theen to do is find mean using the formular below:\n",
    "$$\n",
    "mean =  x^- = \\frac{1}{n}\\sum^n_{i = 1}{x_i} \n",
    "$$\n",
    "using the formular above the mean:\n",
    "$$\n",
    "mean = \\frac{4 + 8 + 6 + 5 + 3}{5}\n",
    "$$\n",
    "$$\n",
    "Mean = 5.2\n",
    "$$ \n",
    "After getting the mean, you thn subtract the mean from the value and square the result, using the formular below:\n",
    "$$\n",
    "({x_i - x̄})^2\n",
    "$$\n",
    "$$\n",
    "4-5.2 = (-1.2)^2 = 1.44\n",
    "$$\n",
    "$$\n",
    "8-5.2 = (2.8)^2 = 7.84\n",
    "$$\n",
    "$$\n",
    "6-5.2 = (0.8)^2 = 0.64\n",
    "$$\n",
    "$$\n",
    "5-5.2 = (-0.2)^2 = 0.44\n",
    "$$\n",
    "$$\n",
    "3-5.2 = (-2.2)^2 = 4.84\n",
    "$$\n",
    "You get the variance by summing the squared value, then dividing bythe number of values:\n",
    "$$\n",
    "\\sum^n_{i = 1}({x_i - x̄})^2= 14.8\n",
    "$$\n",
    "$$\n",
    "(σ²) = \\frac{14.8}{5} = 2.96\n",
    "$$\n"
   ]
  },
  {
   "cell_type": "code",
   "execution_count": null,
   "id": "2210ebed",
   "metadata": {
    "vscode": {
     "languageId": "plaintext"
    }
   },
   "outputs": [],
   "source": []
  },
  {
   "cell_type": "code",
   "execution_count": null,
   "metadata": {
    "vscode": {
     "languageId": "plaintext"
    }
   },
   "outputs": [],
   "source": []
  }
 ],
 "metadata": {
  "language_info": {
   "name": "python"
  }
 },
 "nbformat": 4,
 "nbformat_minor": 5
}
