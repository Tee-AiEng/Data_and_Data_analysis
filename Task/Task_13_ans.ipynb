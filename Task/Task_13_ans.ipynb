{
 "cells": [
  {
   "cell_type": "code",
   "execution_count": 1,
   "id": "6f9d25c3",
   "metadata": {},
   "outputs": [],
   "source": [
    "import numpy as np"
   ]
  },
  {
   "cell_type": "markdown",
   "id": "8717c9c6",
   "metadata": {},
   "source": [
    "Question 1:  Create a 6x6 NumPy array with random integers between 1 and 50. Display the array."
   ]
  },
  {
   "cell_type": "code",
   "execution_count": 2,
   "id": "ffdcfc69",
   "metadata": {},
   "outputs": [
    {
     "name": "stdout",
     "output_type": "stream",
     "text": [
      "The Original Array: [[46  7 19 12 20 33]\n",
      " [42 31 24 48 18 11]\n",
      " [ 5 29 47  7 19 16]\n",
      " [31 33 40 36 36 21]\n",
      " [36 29  8 12  9 26]\n",
      " [15 19 28 24 32 46]]\n"
     ]
    }
   ],
   "source": [
    "#Question 1\n",
    "arr = np.random.randint(1, 50,(6,6))\n",
    "\n",
    "print(\"The Original Array:\",arr)"
   ]
  },
  {
   "cell_type": "markdown",
   "id": "6686fae2",
   "metadata": {},
   "source": [
    "Question 2: Extract the following from the array you created in Question 1: The first two rows. The last three columns. All even numbers in the array."
   ]
  },
  {
   "cell_type": "code",
   "execution_count": 11,
   "id": "52de69fc",
   "metadata": {},
   "outputs": [
    {
     "ename": "TypeError",
     "evalue": "'function' object is not subscriptable",
     "output_type": "error",
     "traceback": [
      "\u001b[31m---------------------------------------------------------------------------\u001b[39m",
      "\u001b[31mTypeError\u001b[39m                                 Traceback (most recent call last)",
      "\u001b[36mCell\u001b[39m\u001b[36m \u001b[39m\u001b[32mIn[11]\u001b[39m\u001b[32m, line 1\u001b[39m\n\u001b[32m----> \u001b[39m\u001b[32m1\u001b[39m \u001b[38;5;28mprint\u001b[39m(\u001b[33m\"\u001b[39m\u001b[33mThe first two rows:\u001b[39m\u001b[33m\"\u001b[39m, \u001b[43marr\u001b[49m\u001b[43m[\u001b[49m\u001b[43m:\u001b[49m\u001b[32;43m2\u001b[39;49m\u001b[43m,\u001b[49m\u001b[43m \u001b[49m\u001b[43m:\u001b[49m\u001b[43m]\u001b[49m)  \n\u001b[32m      2\u001b[39m \u001b[38;5;28mprint\u001b[39m(\u001b[33m\"\u001b[39m\u001b[33mThe last 3 columns:\u001b[39m\u001b[38;5;130;01m\\n\u001b[39;00m\u001b[33m\"\u001b[39m, arr[:, \u001b[32m3\u001b[39m:])  \n\u001b[32m      3\u001b[39m even_num = np.array(arr % \u001b[32m2\u001b[39m == \u001b[32m0\u001b[39m)\n",
      "\u001b[31mTypeError\u001b[39m: 'function' object is not subscriptable"
     ]
    }
   ],
   "source": [
    "print(\"The first two rows:\", arr[:2, :])  \n",
    "print(\"The last 3 columns:\\n\", arr[:, 3:])  \n",
    "even_num = np.array(arr % 2 == 0)\n",
    "print(\"Even Array:\", arr[even_num])"
   ]
  },
  {
   "cell_type": "markdown",
   "id": "efe3a1fd",
   "metadata": {},
   "source": [
    "Question 3: Perform the following array transformations: Reshape the array into a 3D (3, 2, 6) array. Flatten the reshaped array back to 1D."
   ]
  },
  {
   "cell_type": "code",
   "execution_count": 4,
   "id": "562b0d45",
   "metadata": {},
   "outputs": [
    {
     "name": "stdout",
     "output_type": "stream",
     "text": [
      "The Reshaped Array: [[[46  7 19 12 20 33]\n",
      "  [42 31 24 48 18 11]]\n",
      "\n",
      " [[ 5 29 47  7 19 16]\n",
      "  [31 33 40 36 36 21]]\n",
      "\n",
      " [[36 29  8 12  9 26]\n",
      "  [15 19 28 24 32 46]]]\n",
      "Flattened (copy):\n",
      " [46  7 19 12 20 33 42 31 24 48 18 11  5 29 47  7 19 16 31 33 40 36 36 21\n",
      " 36 29  8 12  9 26 15 19 28 24 32 46]\n"
     ]
    }
   ],
   "source": [
    "arr2 = arr.reshape(3,2,6)\n",
    "print(\"The Reshaped Array:\",arr2)\n",
    "flattened = arr2.flatten()                 \n",
    "print(\"Flattened (copy):\\n\", flattened)\n"
   ]
  },
  {
   "cell_type": "markdown",
   "id": "ec3f4c76",
   "metadata": {},
   "source": [
    "\n",
    "Question 4: Generate a 4x4 identity matrix and replace the diagonal with numbers from 10 to 40, with a step of 10."
   ]
  },
  {
   "cell_type": "code",
   "execution_count": 5,
   "id": "3363c946",
   "metadata": {},
   "outputs": [
    {
     "name": "stdout",
     "output_type": "stream",
     "text": [
      "Identity matrix:\n",
      " [[1. 0. 0. 0.]\n",
      " [0. 1. 0. 0.]\n",
      " [0. 0. 1. 0.]\n",
      " [0. 0. 0. 1.]]\n",
      "Diagonal matrix:\n",
      " [[10  0  0  0]\n",
      " [ 0 20  0  0]\n",
      " [ 0  0 30  0]\n",
      " [ 0  0  0 40]]\n"
     ]
    }
   ],
   "source": [
    "arr_id = np.eye(4)\n",
    "print(\"Identity matrix:\\n\",arr_id)\n",
    "arr_diag = np.arange(10, 50, 10)\n",
    "arr2_diag = np.diag(arr_diag)\n",
    "print(\"Diagonal matrix:\\n\", arr2_diag)"
   ]
  },
  {
   "cell_type": "markdown",
   "id": "a28d0fef",
   "metadata": {},
   "source": [
    "Question 5: Perform matrix multiplication between: A 3x4 matrix of random integers (1-10) A 4x3 matrix of random integers (1-10)"
   ]
  },
  {
   "cell_type": "code",
   "execution_count": 6,
   "id": "98e2a82e",
   "metadata": {},
   "outputs": [
    {
     "name": "stdout",
     "output_type": "stream",
     "text": [
      "The 3 by 4 array: [[9 3 3 4]\n",
      " [1 9 2 9]\n",
      " [3 2 4 3]]\n",
      "The 4 by 3 array: [[5 7 8]\n",
      " [6 7 5]\n",
      " [1 1 3]\n",
      " [1 9 6]]\n",
      "Multiplication by mat mull: [[ 70 123 120]\n",
      " [ 70 153 113]\n",
      " [ 34  66  64]]\n"
     ]
    }
   ],
   "source": [
    "arr_3_4 = np.random.randint(1, 10,(3,4))\n",
    "print(\"The 3 by 4 array:\",arr_3_4)\n",
    "arr_4_3= np.random.randint(1, 10,(4,3))\n",
    "print(\"The 4 by 3 array:\",arr_4_3)\n",
    "print(\"Multiplication by mat mull:\", np.matmul(arr_3_4, arr_4_3))\n"
   ]
  },
  {
   "cell_type": "markdown",
   "id": "183136c2",
   "metadata": {},
   "source": [
    "Question 6: Create a function that takes a 2D NumPy array as input and returns a new array where: All even numbers are squared. All odd numbers are replaced by -1."
   ]
  },
  {
   "cell_type": "code",
   "execution_count": 7,
   "id": "6e7576c1",
   "metadata": {},
   "outputs": [
    {
     "name": "stdout",
     "output_type": "stream",
     "text": [
      "Original Array: [[3 3 3 3]\n",
      " [3 3 3 3]\n",
      " [3 3 3 3]]\n"
     ]
    },
    {
     "data": {
      "text/plain": [
       "array([[-1, -1, -1, -1],\n",
       "       [-1, -1, -1, -1],\n",
       "       [-1, -1, -1, -1]], dtype=int32)"
      ]
     },
     "execution_count": 7,
     "metadata": {},
     "output_type": "execute_result"
    }
   ],
   "source": [
    "def arr():\n",
    "     z = int(input(\"Enter the lower limit: \"))\n",
    "     u = int(input(\"Enter the upper limit: \"))\n",
    "     x = int(input(\"Enter the number of rows: \"))\n",
    "     y = int(input(\"Enter the number of coulmns: \"))\n",
    "     arrd_2D = np.random.randint(z, u,(x,y))\n",
    "     print(\"Original Array:\", arrd_2D)\n",
    "     if arrd_2D.ndim == 2:\n",
    "        arrd_2D_copy = arrd_2D.copy()\n",
    "        square_mask = np.where(arrd_2D_copy %  2 == 0, np.square(arrd_2D_copy), arrd_2D_copy)\n",
    "        odd_mask = np.where(square_mask % 2 != 0, -1, square_mask)\n",
    "        return odd_mask\n",
    "     else:\n",
    "         print(\"Array not the right dimension\")\n",
    "\n",
    "\n",
    "arr()"
   ]
  },
  {
   "cell_type": "code",
   "execution_count": 8,
   "id": "879ecbda",
   "metadata": {},
   "outputs": [],
   "source": [
    "def arr():\n",
    "   \n",
    "     arrd_2D = np.random.randint(z, u,(x,y))\n",
    "     print(\"Original Array:\", arrd_2D)\n",
    "     if arrd_2D.ndim == 2:\n",
    "        arrd_2D_copy = arrd_2D.copy()\n",
    "        square_mask = np.where(arrd_2D_copy %  2 == 0, np.square(arrd_2D_copy), arrd_2D_copy)\n",
    "        odd_mask = np.where(square_mask % 2 != 0, -1, square_mask)\n",
    "        return odd_mask\n",
    "     else:\n",
    "         print(\"Array not the right dimension\")"
   ]
  },
  {
   "cell_type": "code",
   "execution_count": 13,
   "id": "16bd86bf",
   "metadata": {},
   "outputs": [
    {
     "data": {
      "text/plain": [
       "array([[1, 0, 0, 0],\n",
       "       [0, 2, 0, 0],\n",
       "       [0, 0, 3, 0],\n",
       "       [0, 0, 0, 4]])"
      ]
     },
     "execution_count": 13,
     "metadata": {},
     "output_type": "execute_result"
    }
   ],
   "source": [
    "\n",
    "# Diagonal matrix - put values on the diagonal\n",
    "diagonal = np.diag([1, 2, 3, 4])\n",
    "diagonal"
   ]
  },
  {
   "cell_type": "code",
   "execution_count": 14,
   "id": "3a430f7f",
   "metadata": {},
   "outputs": [
    {
     "name": "stdout",
     "output_type": "stream",
     "text": [
      "Element at row 1, column 2: 7\n",
      "First row: [1 2 3 4]\n",
      "Second column: [ 2  6 10]\n",
      "Subarray (rows 1-2, cols 1-2):\n",
      " [[ 6  7]\n",
      " [10 11]]\n"
     ]
    }
   ],
   "source": [
    "# 2D array indexing - row and column access\n",
    "arr2d = np.array([[1, 2, 3, 4],\n",
    "                  [5, 6, 7, 8],\n",
    "                  [9, 10, 11, 12]])\n",
    "\n",
    "# Access specific element: [row, column]\n",
    "print(\"Element at row 1, column 2:\", arr2d[1, 2])        # 7\n",
    "\n",
    "# Access entire rows or columns\n",
    "print(\"First row:\", arr2d[0, :])               # All columns of row 0\n",
    "print(\"Second column:\", arr2d[:, 1])           # All rows of column 1\n",
    "\n",
    "# Subarray slicing: [row_start:row_end, col_start:col_end]\n",
    "print(\"Subarray (rows 1-2, cols 1-2):\\n\", arr2d[1:3, 1:3])"
   ]
  },
  {
   "cell_type": "code",
   "execution_count": 15,
   "id": "88d7d9b2",
   "metadata": {},
   "outputs": [
    {
     "data": {
      "text/plain": [
       "array([[14, 47, 10, 34,  2, 23],\n",
       "       [51, 39, 38, 23, 38, 29],\n",
       "       [24, 26, 47,  1, 24, 37],\n",
       "       [18, 47, 49, 23, 53, 56],\n",
       "       [28, 11, 12,  5, 44, 52],\n",
       "       [ 6,  4, 54, 44, 29,  5]], dtype=int32)"
      ]
     },
     "execution_count": 15,
     "metadata": {},
     "output_type": "execute_result"
    }
   ],
   "source": [
    "arr3 = np.random.randint(1, 60,(6,6))\n",
    "arr3"
   ]
  },
  {
   "cell_type": "code",
   "execution_count": 20,
   "id": "c2e1e6f9",
   "metadata": {},
   "outputs": [
    {
     "data": {
      "text/plain": [
       "array([[ 2, 23],\n",
       "       [38, 29],\n",
       "       [24, 37],\n",
       "       [53, 56],\n",
       "       [44, 52],\n",
       "       [29,  5]], dtype=int32)"
      ]
     },
     "execution_count": 20,
     "metadata": {},
     "output_type": "execute_result"
    }
   ],
   "source": [
    "arr3[:,4:]"
   ]
  },
  {
   "cell_type": "code",
   "execution_count": 21,
   "id": "7fbec080",
   "metadata": {},
   "outputs": [
    {
     "data": {
      "text/plain": [
       "np.int32(53)"
      ]
     },
     "execution_count": 21,
     "metadata": {},
     "output_type": "execute_result"
    }
   ],
   "source": [
    "arr3[3,4]"
   ]
  }
 ],
 "metadata": {
  "kernelspec": {
   "display_name": "vire",
   "language": "python",
   "name": "python3"
  },
  "language_info": {
   "codemirror_mode": {
    "name": "ipython",
    "version": 3
   },
   "file_extension": ".py",
   "mimetype": "text/x-python",
   "name": "python",
   "nbconvert_exporter": "python",
   "pygments_lexer": "ipython3",
   "version": "3.13.7"
  }
 },
 "nbformat": 4,
 "nbformat_minor": 5
}
