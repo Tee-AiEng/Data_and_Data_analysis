{
 "cells": [
  {
   "cell_type": "code",
   "execution_count": 20,
   "id": "9d5ba2e6",
   "metadata": {},
   "outputs": [],
   "source": [
    "# import necessary libaries\n",
    "\n",
    "import pandas as pd\n",
    "import numpy as np\n",
    "import matplotlib.pyplot as plt\n",
    "import seaborn as sns\n",
    "\n",
    "pd.set_option(\"display.max_columns\", None)\n",
    "pd.set_option(\"display.max_rows\", 400)"
   ]
  },
  {
   "cell_type": "code",
   "execution_count": 21,
   "id": "e96d653d",
   "metadata": {},
   "outputs": [
    {
     "data": {
      "text/html": [
       "<div>\n",
       "<style scoped>\n",
       "    .dataframe tbody tr th:only-of-type {\n",
       "        vertical-align: middle;\n",
       "    }\n",
       "\n",
       "    .dataframe tbody tr th {\n",
       "        vertical-align: top;\n",
       "    }\n",
       "\n",
       "    .dataframe thead th {\n",
       "        text-align: right;\n",
       "    }\n",
       "</style>\n",
       "<table border=\"1\" class=\"dataframe\">\n",
       "  <thead>\n",
       "    <tr style=\"text-align: right;\">\n",
       "      <th></th>\n",
       "      <th>Sales Person</th>\n",
       "      <th>Geography</th>\n",
       "      <th>Product</th>\n",
       "      <th>Date</th>\n",
       "      <th>Amount</th>\n",
       "      <th>Boxes</th>\n",
       "    </tr>\n",
       "  </thead>\n",
       "  <tbody>\n",
       "    <tr>\n",
       "      <th>0</th>\n",
       "      <td>Barr Faughny</td>\n",
       "      <td>New Zealand</td>\n",
       "      <td>Raspberry Choco</td>\n",
       "      <td>2021-01-01</td>\n",
       "      <td>8414</td>\n",
       "      <td>495</td>\n",
       "    </tr>\n",
       "    <tr>\n",
       "      <th>1</th>\n",
       "      <td>Dennison Crosswaite</td>\n",
       "      <td>Canada</td>\n",
       "      <td>White Choc</td>\n",
       "      <td>2021-01-01</td>\n",
       "      <td>532</td>\n",
       "      <td>54</td>\n",
       "    </tr>\n",
       "    <tr>\n",
       "      <th>2</th>\n",
       "      <td>Karlen McCaffrey</td>\n",
       "      <td>USA</td>\n",
       "      <td>99% Dark &amp; Pure</td>\n",
       "      <td>2021-01-01</td>\n",
       "      <td>5376</td>\n",
       "      <td>269</td>\n",
       "    </tr>\n",
       "    <tr>\n",
       "      <th>3</th>\n",
       "      <td>Barr Faughny</td>\n",
       "      <td>New Zealand</td>\n",
       "      <td>Baker's Choco Chips</td>\n",
       "      <td>2021-01-01</td>\n",
       "      <td>259</td>\n",
       "      <td>22</td>\n",
       "    </tr>\n",
       "    <tr>\n",
       "      <th>4</th>\n",
       "      <td>Beverie Moffet</td>\n",
       "      <td>USA</td>\n",
       "      <td>Manuka Honey Choco</td>\n",
       "      <td>2021-01-01</td>\n",
       "      <td>5530</td>\n",
       "      <td>179</td>\n",
       "    </tr>\n",
       "    <tr>\n",
       "      <th>...</th>\n",
       "      <td>...</td>\n",
       "      <td>...</td>\n",
       "      <td>...</td>\n",
       "      <td>...</td>\n",
       "      <td>...</td>\n",
       "      <td>...</td>\n",
       "    </tr>\n",
       "    <tr>\n",
       "      <th>3786</th>\n",
       "      <td>Van Tuxwell</td>\n",
       "      <td>India</td>\n",
       "      <td>Drinking Coco</td>\n",
       "      <td>2022-01-19</td>\n",
       "      <td>10682</td>\n",
       "      <td>1526</td>\n",
       "    </tr>\n",
       "    <tr>\n",
       "      <th>3787</th>\n",
       "      <td>Rafaelita Blaksland</td>\n",
       "      <td>Australia</td>\n",
       "      <td>Mint Chip Choco</td>\n",
       "      <td>2022-01-18</td>\n",
       "      <td>11746</td>\n",
       "      <td>511</td>\n",
       "    </tr>\n",
       "    <tr>\n",
       "      <th>3788</th>\n",
       "      <td>Kelci Walkden</td>\n",
       "      <td>Australia</td>\n",
       "      <td>Spicy Special Slims</td>\n",
       "      <td>2022-01-03</td>\n",
       "      <td>8862</td>\n",
       "      <td>1477</td>\n",
       "    </tr>\n",
       "    <tr>\n",
       "      <th>3789</th>\n",
       "      <td>Gunar Cockshoot</td>\n",
       "      <td>New Zealand</td>\n",
       "      <td>Mint Chip Choco</td>\n",
       "      <td>2022-01-21</td>\n",
       "      <td>11592</td>\n",
       "      <td>527</td>\n",
       "    </tr>\n",
       "    <tr>\n",
       "      <th>3790</th>\n",
       "      <td>Mallorie Waber</td>\n",
       "      <td>USA</td>\n",
       "      <td>Spicy Special Slims</td>\n",
       "      <td>2022-01-07</td>\n",
       "      <td>3871</td>\n",
       "      <td>431</td>\n",
       "    </tr>\n",
       "  </tbody>\n",
       "</table>\n",
       "<p>3791 rows × 6 columns</p>\n",
       "</div>"
      ],
      "text/plain": [
       "             Sales Person      Geography              Product       Date  \\\n",
       "0            Barr Faughny    New Zealand      Raspberry Choco 2021-01-01   \n",
       "1     Dennison Crosswaite         Canada           White Choc 2021-01-01   \n",
       "2        Karlen McCaffrey            USA      99% Dark & Pure 2021-01-01   \n",
       "3            Barr Faughny    New Zealand  Baker's Choco Chips 2021-01-01   \n",
       "4          Beverie Moffet            USA   Manuka Honey Choco 2021-01-01   \n",
       "...                   ...            ...                  ...        ...   \n",
       "3786          Van Tuxwell         India         Drinking Coco 2022-01-19   \n",
       "3787  Rafaelita Blaksland     Australia       Mint Chip Choco 2022-01-18   \n",
       "3788        Kelci Walkden     Australia   Spicy Special Slims 2022-01-03   \n",
       "3789      Gunar Cockshoot   New Zealand       Mint Chip Choco 2022-01-21   \n",
       "3790       Mallorie Waber         USA     Spicy Special Slims 2022-01-07   \n",
       "\n",
       "      Amount  Boxes  \n",
       "0       8414    495  \n",
       "1        532     54  \n",
       "2       5376    269  \n",
       "3        259     22  \n",
       "4       5530    179  \n",
       "...      ...    ...  \n",
       "3786   10682   1526  \n",
       "3787   11746    511  \n",
       "3788    8862   1477  \n",
       "3789   11592    527  \n",
       "3790    3871    431  \n",
       "\n",
       "[3791 rows x 6 columns]"
      ]
     },
     "execution_count": 21,
     "metadata": {},
     "output_type": "execute_result"
    }
   ],
   "source": [
    "# load the dataset\n",
    "df = pd.read_excel(\"C:/Users/ncc/Desktop/Dataset/Sales Data.xlsx\")\n",
    "df"
   ]
  },
  {
   "cell_type": "markdown",
   "id": "01badba4",
   "metadata": {},
   "source": [
    "## Basic Info of the Dataset"
   ]
  },
  {
   "cell_type": "code",
   "execution_count": 22,
   "id": "8d3a22ac",
   "metadata": {},
   "outputs": [
    {
     "name": "stdout",
     "output_type": "stream",
     "text": [
      "<class 'pandas.core.frame.DataFrame'>\n",
      "RangeIndex: 3791 entries, 0 to 3790\n",
      "Data columns (total 6 columns):\n",
      " #   Column        Non-Null Count  Dtype         \n",
      "---  ------        --------------  -----         \n",
      " 0   Sales Person  3791 non-null   object        \n",
      " 1   Geography     3791 non-null   object        \n",
      " 2   Product       3791 non-null   object        \n",
      " 3   Date          3791 non-null   datetime64[ns]\n",
      " 4   Amount        3791 non-null   int64         \n",
      " 5   Boxes         3791 non-null   int64         \n",
      "dtypes: datetime64[ns](1), int64(2), object(3)\n",
      "memory usage: 177.8+ KB\n"
     ]
    }
   ],
   "source": [
    "df.info()"
   ]
  },
  {
   "cell_type": "code",
   "execution_count": 23,
   "id": "eff21b23",
   "metadata": {},
   "outputs": [
    {
     "data": {
      "text/html": [
       "<div>\n",
       "<style scoped>\n",
       "    .dataframe tbody tr th:only-of-type {\n",
       "        vertical-align: middle;\n",
       "    }\n",
       "\n",
       "    .dataframe tbody tr th {\n",
       "        vertical-align: top;\n",
       "    }\n",
       "\n",
       "    .dataframe thead th {\n",
       "        text-align: right;\n",
       "    }\n",
       "</style>\n",
       "<table border=\"1\" class=\"dataframe\">\n",
       "  <thead>\n",
       "    <tr style=\"text-align: right;\">\n",
       "      <th></th>\n",
       "      <th>Date</th>\n",
       "      <th>Amount</th>\n",
       "      <th>Boxes</th>\n",
       "    </tr>\n",
       "  </thead>\n",
       "  <tbody>\n",
       "    <tr>\n",
       "      <th>count</th>\n",
       "      <td>3791</td>\n",
       "      <td>3791.000000</td>\n",
       "      <td>3791.000000</td>\n",
       "    </tr>\n",
       "    <tr>\n",
       "      <th>mean</th>\n",
       "      <td>2021-07-24 07:40:22.474281472</td>\n",
       "      <td>5724.537589</td>\n",
       "      <td>354.675284</td>\n",
       "    </tr>\n",
       "    <tr>\n",
       "      <th>min</th>\n",
       "      <td>2021-01-01 00:00:00</td>\n",
       "      <td>0.000000</td>\n",
       "      <td>0.000000</td>\n",
       "    </tr>\n",
       "    <tr>\n",
       "      <th>25%</th>\n",
       "      <td>2021-04-08 00:00:00</td>\n",
       "      <td>2352.000000</td>\n",
       "      <td>120.500000</td>\n",
       "    </tr>\n",
       "    <tr>\n",
       "      <th>50%</th>\n",
       "      <td>2021-07-23 00:00:00</td>\n",
       "      <td>4844.000000</td>\n",
       "      <td>265.000000</td>\n",
       "    </tr>\n",
       "    <tr>\n",
       "      <th>75%</th>\n",
       "      <td>2021-11-12 00:00:00</td>\n",
       "      <td>8302.000000</td>\n",
       "      <td>480.000000</td>\n",
       "    </tr>\n",
       "    <tr>\n",
       "      <th>max</th>\n",
       "      <td>2022-01-31 00:00:00</td>\n",
       "      <td>23268.000000</td>\n",
       "      <td>3075.000000</td>\n",
       "    </tr>\n",
       "    <tr>\n",
       "      <th>std</th>\n",
       "      <td>NaN</td>\n",
       "      <td>4296.484695</td>\n",
       "      <td>335.358698</td>\n",
       "    </tr>\n",
       "  </tbody>\n",
       "</table>\n",
       "</div>"
      ],
      "text/plain": [
       "                                Date        Amount        Boxes\n",
       "count                           3791   3791.000000  3791.000000\n",
       "mean   2021-07-24 07:40:22.474281472   5724.537589   354.675284\n",
       "min              2021-01-01 00:00:00      0.000000     0.000000\n",
       "25%              2021-04-08 00:00:00   2352.000000   120.500000\n",
       "50%              2021-07-23 00:00:00   4844.000000   265.000000\n",
       "75%              2021-11-12 00:00:00   8302.000000   480.000000\n",
       "max              2022-01-31 00:00:00  23268.000000  3075.000000\n",
       "std                              NaN   4296.484695   335.358698"
      ]
     },
     "execution_count": 23,
     "metadata": {},
     "output_type": "execute_result"
    }
   ],
   "source": [
    "df.describe()"
   ]
  },
  {
   "cell_type": "code",
   "execution_count": 24,
   "id": "cf89b1e9",
   "metadata": {},
   "outputs": [
    {
     "data": {
      "text/plain": [
       "Sales Person    0\n",
       "Geography       0\n",
       "Product         0\n",
       "Date            0\n",
       "Amount          0\n",
       "Boxes           0\n",
       "dtype: int64"
      ]
     },
     "execution_count": 24,
     "metadata": {},
     "output_type": "execute_result"
    }
   ],
   "source": [
    "df.isna().sum()"
   ]
  },
  {
   "cell_type": "code",
   "execution_count": 25,
   "id": "bff3e0b0",
   "metadata": {},
   "outputs": [
    {
     "data": {
      "text/plain": [
       "np.int64(0)"
      ]
     },
     "execution_count": 25,
     "metadata": {},
     "output_type": "execute_result"
    }
   ],
   "source": [
    "df.duplicated().sum()"
   ]
  },
  {
   "cell_type": "code",
   "execution_count": 26,
   "id": "06cf6b7c",
   "metadata": {},
   "outputs": [
    {
     "data": {
      "text/plain": [
       "Index(['Sales Person', 'Geography', 'Product', 'Date', 'Amount', 'Boxes'], dtype='object')"
      ]
     },
     "execution_count": 26,
     "metadata": {},
     "output_type": "execute_result"
    }
   ],
   "source": [
    "df.columns"
   ]
  },
  {
   "cell_type": "markdown",
   "id": "be5e0b41",
   "metadata": {},
   "source": [
    "## Some Feature Engineering"
   ]
  },
  {
   "cell_type": "code",
   "execution_count": 27,
   "id": "08d13fb0",
   "metadata": {},
   "outputs": [
    {
     "data": {
      "text/plain": [
       "0        4164930\n",
       "1          28728\n",
       "2        1446144\n",
       "3           5698\n",
       "4         989870\n",
       "          ...   \n",
       "3786    16300732\n",
       "3787     6002206\n",
       "3788    13089174\n",
       "3789     6108984\n",
       "3790     1668401\n",
       "Name: Revenue, Length: 3791, dtype: int64"
      ]
     },
     "execution_count": 27,
     "metadata": {},
     "output_type": "execute_result"
    }
   ],
   "source": [
    "\n",
    "df[\"Revenue\"] = df[\"Amount\"] * df[\"Boxes\"]\n",
    "df[\"Revenue\"]"
   ]
  },
  {
   "cell_type": "code",
   "execution_count": 28,
   "id": "cc1016bd",
   "metadata": {},
   "outputs": [
    {
     "data": {
      "text/html": [
       "<div>\n",
       "<style scoped>\n",
       "    .dataframe tbody tr th:only-of-type {\n",
       "        vertical-align: middle;\n",
       "    }\n",
       "\n",
       "    .dataframe tbody tr th {\n",
       "        vertical-align: top;\n",
       "    }\n",
       "\n",
       "    .dataframe thead th {\n",
       "        text-align: right;\n",
       "    }\n",
       "</style>\n",
       "<table border=\"1\" class=\"dataframe\">\n",
       "  <thead>\n",
       "    <tr style=\"text-align: right;\">\n",
       "      <th></th>\n",
       "      <th>Sales Person</th>\n",
       "      <th>Geography</th>\n",
       "      <th>Product</th>\n",
       "      <th>Date</th>\n",
       "      <th>Amount</th>\n",
       "      <th>Boxes</th>\n",
       "      <th>Revenue</th>\n",
       "      <th>Year</th>\n",
       "      <th>Month</th>\n",
       "    </tr>\n",
       "  </thead>\n",
       "  <tbody>\n",
       "    <tr>\n",
       "      <th>0</th>\n",
       "      <td>Barr Faughny</td>\n",
       "      <td>New Zealand</td>\n",
       "      <td>Raspberry Choco</td>\n",
       "      <td>2021-01-01</td>\n",
       "      <td>8414</td>\n",
       "      <td>495</td>\n",
       "      <td>4164930</td>\n",
       "      <td>2021</td>\n",
       "      <td>January</td>\n",
       "    </tr>\n",
       "    <tr>\n",
       "      <th>1</th>\n",
       "      <td>Dennison Crosswaite</td>\n",
       "      <td>Canada</td>\n",
       "      <td>White Choc</td>\n",
       "      <td>2021-01-01</td>\n",
       "      <td>532</td>\n",
       "      <td>54</td>\n",
       "      <td>28728</td>\n",
       "      <td>2021</td>\n",
       "      <td>January</td>\n",
       "    </tr>\n",
       "    <tr>\n",
       "      <th>2</th>\n",
       "      <td>Karlen McCaffrey</td>\n",
       "      <td>USA</td>\n",
       "      <td>99% Dark &amp; Pure</td>\n",
       "      <td>2021-01-01</td>\n",
       "      <td>5376</td>\n",
       "      <td>269</td>\n",
       "      <td>1446144</td>\n",
       "      <td>2021</td>\n",
       "      <td>January</td>\n",
       "    </tr>\n",
       "    <tr>\n",
       "      <th>3</th>\n",
       "      <td>Barr Faughny</td>\n",
       "      <td>New Zealand</td>\n",
       "      <td>Baker's Choco Chips</td>\n",
       "      <td>2021-01-01</td>\n",
       "      <td>259</td>\n",
       "      <td>22</td>\n",
       "      <td>5698</td>\n",
       "      <td>2021</td>\n",
       "      <td>January</td>\n",
       "    </tr>\n",
       "    <tr>\n",
       "      <th>4</th>\n",
       "      <td>Beverie Moffet</td>\n",
       "      <td>USA</td>\n",
       "      <td>Manuka Honey Choco</td>\n",
       "      <td>2021-01-01</td>\n",
       "      <td>5530</td>\n",
       "      <td>179</td>\n",
       "      <td>989870</td>\n",
       "      <td>2021</td>\n",
       "      <td>January</td>\n",
       "    </tr>\n",
       "    <tr>\n",
       "      <th>...</th>\n",
       "      <td>...</td>\n",
       "      <td>...</td>\n",
       "      <td>...</td>\n",
       "      <td>...</td>\n",
       "      <td>...</td>\n",
       "      <td>...</td>\n",
       "      <td>...</td>\n",
       "      <td>...</td>\n",
       "      <td>...</td>\n",
       "    </tr>\n",
       "    <tr>\n",
       "      <th>3786</th>\n",
       "      <td>Van Tuxwell</td>\n",
       "      <td>India</td>\n",
       "      <td>Drinking Coco</td>\n",
       "      <td>2022-01-19</td>\n",
       "      <td>10682</td>\n",
       "      <td>1526</td>\n",
       "      <td>16300732</td>\n",
       "      <td>2022</td>\n",
       "      <td>January</td>\n",
       "    </tr>\n",
       "    <tr>\n",
       "      <th>3787</th>\n",
       "      <td>Rafaelita Blaksland</td>\n",
       "      <td>Australia</td>\n",
       "      <td>Mint Chip Choco</td>\n",
       "      <td>2022-01-18</td>\n",
       "      <td>11746</td>\n",
       "      <td>511</td>\n",
       "      <td>6002206</td>\n",
       "      <td>2022</td>\n",
       "      <td>January</td>\n",
       "    </tr>\n",
       "    <tr>\n",
       "      <th>3788</th>\n",
       "      <td>Kelci Walkden</td>\n",
       "      <td>Australia</td>\n",
       "      <td>Spicy Special Slims</td>\n",
       "      <td>2022-01-03</td>\n",
       "      <td>8862</td>\n",
       "      <td>1477</td>\n",
       "      <td>13089174</td>\n",
       "      <td>2022</td>\n",
       "      <td>January</td>\n",
       "    </tr>\n",
       "    <tr>\n",
       "      <th>3789</th>\n",
       "      <td>Gunar Cockshoot</td>\n",
       "      <td>New Zealand</td>\n",
       "      <td>Mint Chip Choco</td>\n",
       "      <td>2022-01-21</td>\n",
       "      <td>11592</td>\n",
       "      <td>527</td>\n",
       "      <td>6108984</td>\n",
       "      <td>2022</td>\n",
       "      <td>January</td>\n",
       "    </tr>\n",
       "    <tr>\n",
       "      <th>3790</th>\n",
       "      <td>Mallorie Waber</td>\n",
       "      <td>USA</td>\n",
       "      <td>Spicy Special Slims</td>\n",
       "      <td>2022-01-07</td>\n",
       "      <td>3871</td>\n",
       "      <td>431</td>\n",
       "      <td>1668401</td>\n",
       "      <td>2022</td>\n",
       "      <td>January</td>\n",
       "    </tr>\n",
       "  </tbody>\n",
       "</table>\n",
       "<p>3791 rows × 9 columns</p>\n",
       "</div>"
      ],
      "text/plain": [
       "             Sales Person      Geography              Product       Date  \\\n",
       "0            Barr Faughny    New Zealand      Raspberry Choco 2021-01-01   \n",
       "1     Dennison Crosswaite         Canada           White Choc 2021-01-01   \n",
       "2        Karlen McCaffrey            USA      99% Dark & Pure 2021-01-01   \n",
       "3            Barr Faughny    New Zealand  Baker's Choco Chips 2021-01-01   \n",
       "4          Beverie Moffet            USA   Manuka Honey Choco 2021-01-01   \n",
       "...                   ...            ...                  ...        ...   \n",
       "3786          Van Tuxwell         India         Drinking Coco 2022-01-19   \n",
       "3787  Rafaelita Blaksland     Australia       Mint Chip Choco 2022-01-18   \n",
       "3788        Kelci Walkden     Australia   Spicy Special Slims 2022-01-03   \n",
       "3789      Gunar Cockshoot   New Zealand       Mint Chip Choco 2022-01-21   \n",
       "3790       Mallorie Waber         USA     Spicy Special Slims 2022-01-07   \n",
       "\n",
       "      Amount  Boxes   Revenue  Year    Month  \n",
       "0       8414    495   4164930  2021  January  \n",
       "1        532     54     28728  2021  January  \n",
       "2       5376    269   1446144  2021  January  \n",
       "3        259     22      5698  2021  January  \n",
       "4       5530    179    989870  2021  January  \n",
       "...      ...    ...       ...   ...      ...  \n",
       "3786   10682   1526  16300732  2022  January  \n",
       "3787   11746    511   6002206  2022  January  \n",
       "3788    8862   1477  13089174  2022  January  \n",
       "3789   11592    527   6108984  2022  January  \n",
       "3790    3871    431   1668401  2022  January  \n",
       "\n",
       "[3791 rows x 9 columns]"
      ]
     },
     "execution_count": 28,
     "metadata": {},
     "output_type": "execute_result"
    }
   ],
   "source": [
    "df[\"Year\"] = df[\"Date\"].dt.year\n",
    "df[\"Month\"] = df[\"Date\"].dt.month_name()\n",
    "df\n"
   ]
  },
  {
   "cell_type": "markdown",
   "id": "2e90476a",
   "metadata": {},
   "source": [
    "## Data Cleaning"
   ]
  },
  {
   "cell_type": "code",
   "execution_count": 29,
   "id": "83f63ff8",
   "metadata": {},
   "outputs": [],
   "source": [
    "df[\"Geography\"] = df[\"Geography\"].str.strip()\n",
    "df[\"Product\"] = df[\"Product\"].str.replace(\"99% -Dark & Pure\",\"99% Dark & Pure\")\n",
    "df[\"Product\"] = df[\"Product\"].str.replace(\"White-Choc\",\"White Choc\")\n",
    "df[\"Product\"] = df[\"Product\"].str.replace(\"Manuka Honey Chocos\",\"Manuka Honey Choco\")\n",
    "df[\"Sales Person\"] = df[\"Sales Person\"].str.replace(\"Ches Bonnell*\",\"Ches Bonnell\")"
   ]
  },
  {
   "cell_type": "markdown",
   "id": "8fcd2902",
   "metadata": {},
   "source": [
    "## Generating insight from the Dataset"
   ]
  },
  {
   "cell_type": "code",
   "execution_count": 30,
   "id": "a361aca6",
   "metadata": {},
   "outputs": [
    {
     "data": {
      "text/plain": [
       "array(['New Zealand', 'Canada', 'USA', 'India', 'UK', 'Australia'],\n",
       "      dtype=object)"
      ]
     },
     "execution_count": 30,
     "metadata": {},
     "output_type": "execute_result"
    }
   ],
   "source": [
    "df[\"Geography\"].unique()"
   ]
  },
  {
   "cell_type": "code",
   "execution_count": 31,
   "id": "07cc75f3",
   "metadata": {},
   "outputs": [
    {
     "data": {
      "text/plain": [
       "Geography\n",
       "New Zealand    647\n",
       "Canada         643\n",
       "UK             636\n",
       "India          629\n",
       "Australia      627\n",
       "USA            609\n",
       "Name: count, dtype: int64"
      ]
     },
     "execution_count": 31,
     "metadata": {},
     "output_type": "execute_result"
    }
   ],
   "source": [
    "df[\"Geography\"].value_counts().head(10)"
   ]
  },
  {
   "cell_type": "code",
   "execution_count": 46,
   "id": "ea03388f",
   "metadata": {},
   "outputs": [
    {
     "data": {
      "text/plain": [
       "Text(0, 0.5, 'Frequency')"
      ]
     },
     "execution_count": 46,
     "metadata": {},
     "output_type": "execute_result"
    },
    {
     "data": {
      "image/png": "[encoded data removed]",
      "text/plain": [
       "<Figure size 640x480 with 1 Axes>"
      ]
     },
     "metadata": {},
     "output_type": "display_data"
    }
   ],
   "source": [
    "df[\"Geography\"].value_counts().head(10).plot(kind = 'bar')\n",
    "plt.ylabel(\"Frequency\")"
   ]
  },
  {
   "cell_type": "code",
   "execution_count": 33,
   "id": "7573b066",
   "metadata": {},
   "outputs": [
    {
     "data": {
      "text/plain": [
       "Geography\n",
       "India          2234182748\n",
       "New Zealand    2084411952\n",
       "Australia      2009204904\n",
       "Canada         1954810389\n",
       "UK             1922557252\n",
       "USA            1878754248\n",
       "Name: Revenue, dtype: int64"
      ]
     },
     "execution_count": 33,
     "metadata": {},
     "output_type": "execute_result"
    }
   ],
   "source": [
    "rev_by_location =  df.groupby([\"Geography\"])[\"Revenue\"].sum().sort_values(ascending=False)\n",
    "rev_by_location"
   ]
  },
  {
   "cell_type": "code",
   "execution_count": 34,
   "id": "6f0392b7",
   "metadata": {},
   "outputs": [
    {
     "data": {
      "text/html": [
       "<div>\n",
       "<style scoped>\n",
       "    .dataframe tbody tr th:only-of-type {\n",
       "        vertical-align: middle;\n",
       "    }\n",
       "\n",
       "    .dataframe tbody tr th {\n",
       "        vertical-align: top;\n",
       "    }\n",
       "\n",
       "    .dataframe thead th {\n",
       "        text-align: right;\n",
       "    }\n",
       "</style>\n",
       "<table border=\"1\" class=\"dataframe\">\n",
       "  <thead>\n",
       "    <tr style=\"text-align: right;\">\n",
       "      <th></th>\n",
       "      <th>Sales Person</th>\n",
       "      <th>Geography</th>\n",
       "      <th>Product</th>\n",
       "      <th>Date</th>\n",
       "      <th>Amount</th>\n",
       "      <th>Boxes</th>\n",
       "      <th>Revenue</th>\n",
       "      <th>Year</th>\n",
       "      <th>Month</th>\n",
       "    </tr>\n",
       "  </thead>\n",
       "  <tbody>\n",
       "    <tr>\n",
       "      <th>5</th>\n",
       "      <td>Rafaelita Blaksland</td>\n",
       "      <td>India</td>\n",
       "      <td>85% Dark Bars</td>\n",
       "      <td>2021-01-01</td>\n",
       "      <td>2184</td>\n",
       "      <td>122</td>\n",
       "      <td>266448</td>\n",
       "      <td>2021</td>\n",
       "      <td>January</td>\n",
       "    </tr>\n",
       "    <tr>\n",
       "      <th>14</th>\n",
       "      <td>Brien Boise</td>\n",
       "      <td>India</td>\n",
       "      <td>Eclairs</td>\n",
       "      <td>2021-01-01</td>\n",
       "      <td>15596</td>\n",
       "      <td>975</td>\n",
       "      <td>15206100</td>\n",
       "      <td>2021</td>\n",
       "      <td>January</td>\n",
       "    </tr>\n",
       "    <tr>\n",
       "      <th>15</th>\n",
       "      <td>Curtice Advani</td>\n",
       "      <td>India</td>\n",
       "      <td>After Nines</td>\n",
       "      <td>2021-01-01</td>\n",
       "      <td>8561</td>\n",
       "      <td>330</td>\n",
       "      <td>2825130</td>\n",
       "      <td>2021</td>\n",
       "      <td>January</td>\n",
       "    </tr>\n",
       "    <tr>\n",
       "      <th>31</th>\n",
       "      <td>Van Tuxwell</td>\n",
       "      <td>India</td>\n",
       "      <td>Organic Choco Syrup</td>\n",
       "      <td>2021-01-05</td>\n",
       "      <td>17248</td>\n",
       "      <td>664</td>\n",
       "      <td>11452672</td>\n",
       "      <td>2021</td>\n",
       "      <td>January</td>\n",
       "    </tr>\n",
       "    <tr>\n",
       "      <th>40</th>\n",
       "      <td>Jan Morforth</td>\n",
       "      <td>India</td>\n",
       "      <td>Orange Choco</td>\n",
       "      <td>2021-01-05</td>\n",
       "      <td>3059</td>\n",
       "      <td>279</td>\n",
       "      <td>853461</td>\n",
       "      <td>2021</td>\n",
       "      <td>January</td>\n",
       "    </tr>\n",
       "  </tbody>\n",
       "</table>\n",
       "</div>"
      ],
      "text/plain": [
       "           Sales Person Geography              Product       Date  Amount  \\\n",
       "5   Rafaelita Blaksland     India        85% Dark Bars 2021-01-01    2184   \n",
       "14          Brien Boise     India              Eclairs 2021-01-01   15596   \n",
       "15       Curtice Advani     India          After Nines 2021-01-01    8561   \n",
       "31          Van Tuxwell     India  Organic Choco Syrup 2021-01-05   17248   \n",
       "40         Jan Morforth     India         Orange Choco 2021-01-05    3059   \n",
       "\n",
       "    Boxes   Revenue  Year    Month  \n",
       "5     122    266448  2021  January  \n",
       "14    975  15206100  2021  January  \n",
       "15    330   2825130  2021  January  \n",
       "31    664  11452672  2021  January  \n",
       "40    279    853461  2021  January  "
      ]
     },
     "execution_count": 34,
     "metadata": {},
     "output_type": "execute_result"
    }
   ],
   "source": [
    "# Exploring India since it has the higest generated revenue\n",
    "df_india = df.loc[(df[\"Geography\"] == \"India\")]\n",
    "df_india.head(5)\n"
   ]
  },
  {
   "cell_type": "code",
   "execution_count": 35,
   "id": "2745a55e",
   "metadata": {},
   "outputs": [
    {
     "data": {
      "text/plain": [
       "Product\n",
       "85% Dark Bars           182334957\n",
       "Baker's Choco Chips     147460593\n",
       "70% Dark Bites          125877346\n",
       "50% Dark Bites          104700470\n",
       "Drinking Coco            94609739\n",
       "Almond Choco             85474172\n",
       "Caramel Stuffed Bars     77184933\n",
       "Choco Coated Almonds     71886647\n",
       "99% Dark & Pure          64986446\n",
       "After Nines              63101857\n",
       "Name: Revenue, dtype: int64"
      ]
     },
     "execution_count": 35,
     "metadata": {},
     "output_type": "execute_result"
    }
   ],
   "source": [
    "#  top 10 product generating higest revenue in india\n",
    "Hig_rev_by_prodct_in_india = df_india.groupby([\"Product\"])[\"Revenue\"].sum().head(10).sort_values(ascending=False)\n",
    "Hig_rev_by_prodct_in_india"
   ]
  },
  {
   "cell_type": "code",
   "execution_count": 36,
   "id": "abc34aa5",
   "metadata": {},
   "outputs": [
    {
     "data": {
      "text/plain": [
       "Text(0.5, 1.0, 'Top Ten Product in India')"
      ]
     },
     "execution_count": 36,
     "metadata": {},
     "output_type": "execute_result"
    },
    {
     "data": {
      "image/png": "[encoded data removed]",
      "text/plain": [
       "<Figure size 640x480 with 1 Axes>"
      ]
     },
     "metadata": {},
     "output_type": "display_data"
    }
   ],
   "source": [
    "df_india.groupby([\"Product\"])[\"Revenue\"].sum().head(10).sort_values(ascending=False).plot(kind = \"bar\")\n",
    "plt.ylabel(\"Revenue\")\n",
    "plt.title(\"Top Ten Product in India\")\n"
   ]
  },
  {
   "cell_type": "code",
   "execution_count": 39,
   "id": "9d2407ed",
   "metadata": {},
   "outputs": [
    {
     "data": {
      "text/plain": [
       "Sales Person\n",
       "Curtice Advani         124768301\n",
       "Ches Bonnell           109542930\n",
       "Barr Faughny           102911795\n",
       "Beverie Moffet          99692460\n",
       "Andria Kimpton          82759019\n",
       "Dotty Strutley          65596349\n",
       "Gigi Bohling            64850191\n",
       "Dennison Crosswaite     63065821\n",
       "Camilla Castle          55130474\n",
       "Brien Boise             53921070\n",
       "Name: Revenue, dtype: int64"
      ]
     },
     "execution_count": 39,
     "metadata": {},
     "output_type": "execute_result"
    }
   ],
   "source": [
    "# Sales agent with higest revenue\n",
    "sales_agent_by_rev =  df_india.groupby([\"Sales Person\"])[\"Revenue\"].sum().head(10).sort_values(ascending=False)\n",
    "sales_agent_by_rev"
   ]
  },
  {
   "cell_type": "code",
   "execution_count": 42,
   "id": "668ae3e6",
   "metadata": {},
   "outputs": [
    {
     "data": {
      "text/plain": [
       "Text(0.5, 1.0, 'Top 10 Sales Person in India')"
      ]
     },
     "execution_count": 42,
     "metadata": {},
     "output_type": "execute_result"
    },
    {
     "data": {
      "image/png": "[encoded data removed]",
      "text/plain": [
       "<Figure size 640x480 with 1 Axes>"
      ]
     },
     "metadata": {},
     "output_type": "display_data"
    }
   ],
   "source": [
    "df_india.groupby([\"Sales Person\"])[\"Revenue\"].sum().head(10).sort_values(ascending=False).plot(kind = \"bar\")\n",
    "plt.ylabel(\"Revenue\")\n",
    "plt.title(\"Top 10 Sales Person in India\")"
   ]
  },
  {
   "cell_type": "code",
   "execution_count": null,
   "id": "c96074d9",
   "metadata": {},
   "outputs": [],
   "source": []
  },
  {
   "cell_type": "code",
   "execution_count": null,
   "id": "f108dd1d",
   "metadata": {},
   "outputs": [],
   "source": []
  },
  {
   "cell_type": "code",
   "execution_count": null,
   "id": "f3ab45b1",
   "metadata": {},
   "outputs": [
    {
     "data": {
      "text/plain": [
       "array(['Raspberry Choco', 'White Choc', '99% Dark & Pure',\n",
       "       \"Baker's Choco Chips\", 'Manuka Honey Choco', '85% Dark Bars',\n",
       "       'Organic Choco Syrup', 'Caramel Stuffed Bars', 'Milk Bars',\n",
       "       'Mint Chip Choco', 'Orange Choco', 'Eclairs', 'After Nines',\n",
       "       'Spicy Special Slims', 'Drinking Coco', 'Peanut Butter Cubes',\n",
       "       'Choco Coated Almonds', 'Fruit & Nut Bars', '50% Dark Bites',\n",
       "       '70% Dark Bites', 'Almond Choco', 'Smooth Sliky Salty'],\n",
       "      dtype=object)"
      ]
     },
     "execution_count": 121,
     "metadata": {},
     "output_type": "execute_result"
    }
   ],
   "source": [
    "df[\"Product\"].unique()"
   ]
  },
  {
   "cell_type": "code",
   "execution_count": null,
   "id": "73f26079",
   "metadata": {},
   "outputs": [
    {
     "data": {
      "text/plain": [
       "Product\n",
       "99% Dark & Pure         179\n",
       "Organic Choco Syrup     178\n",
       "White Choc              177\n",
       "Peanut Butter Cubes     176\n",
       "Manuka Honey Choco      175\n",
       "After Nines             175\n",
       "Orange Choco            175\n",
       "Caramel Stuffed Bars    175\n",
       "85% Dark Bars           174\n",
       "Raspberry Choco         173\n",
       "Baker's Choco Chips     173\n",
       "Choco Coated Almonds    172\n",
       "Fruit & Nut Bars        172\n",
       "Spicy Special Slims     171\n",
       "Smooth Sliky Salty      170\n",
       "Eclairs                 170\n",
       "Milk Bars               170\n",
       "50% Dark Bites          170\n",
       "Mint Chip Choco         168\n",
       "Almond Choco            168\n",
       "Drinking Coco           167\n",
       "70% Dark Bites          163\n",
       "Name: count, dtype: int64"
      ]
     },
     "execution_count": 122,
     "metadata": {},
     "output_type": "execute_result"
    }
   ],
   "source": [
    "df[\"Product\"].value_counts()"
   ]
  },
  {
   "cell_type": "code",
   "execution_count": 47,
   "id": "e787b958",
   "metadata": {},
   "outputs": [
    {
     "data": {
      "text/plain": [
       "Text(0, 0.5, 'Frequency')"
      ]
     },
     "execution_count": 47,
     "metadata": {},
     "output_type": "execute_result"
    },
    {
     "data": {
      "image/png": "[encoded data removed]",
      "text/plain": [
       "<Figure size 640x480 with 1 Axes>"
      ]
     },
     "metadata": {},
     "output_type": "display_data"
    }
   ],
   "source": [
    "df[\"Product\"].value_counts().head(10).plot(kind = 'bar')\n",
    "plt.ylabel(\"Frequency\")"
   ]
  },
  {
   "cell_type": "code",
   "execution_count": null,
   "id": "6b1780b8",
   "metadata": {},
   "outputs": [
    {
     "data": {
      "text/plain": [
       "array(['Barr Faughny', 'Dennison Crosswaite', 'Karlen McCaffrey',\n",
       "       'Beverie Moffet', 'Rafaelita Blaksland', 'Oby Sorrel',\n",
       "       'Dotty Strutley', 'Brien Boise', 'Curtice Advani',\n",
       "       'Madelene Upcott', \"Wilone O'Kielt\", 'Jehu Rudeforth',\n",
       "       'Camilla Castle', 'Andria Kimpton', 'Kelci Walkden',\n",
       "       'Husein Augar', 'Van Tuxwell', \"Marney O'Breen\", 'Kaine Padly',\n",
       "       'Jan Morforth', 'Ches Bonnell', 'Gunar Cockshoot', 'Gigi Bohling',\n",
       "       'Roddy Speechley', 'Mallorie Waber'], dtype=object)"
      ]
     },
     "execution_count": 124,
     "metadata": {},
     "output_type": "execute_result"
    }
   ],
   "source": [
    "df[\"Sales Person\"].unique()"
   ]
  },
  {
   "cell_type": "code",
   "execution_count": null,
   "id": "586039ad",
   "metadata": {},
   "outputs": [
    {
     "data": {
      "text/plain": [
       "Sales Person\n",
       "Brien Boise            160\n",
       "Van Tuxwell            157\n",
       "Dotty Strutley         156\n",
       "Wilone O'Kielt         156\n",
       "Dennison Crosswaite    156\n",
       "Beverie Moffet         155\n",
       "Karlen McCaffrey       155\n",
       "Roddy Speechley        154\n",
       "Andria Kimpton         154\n",
       "Gunar Cockshoot        153\n",
       "Madelene Upcott        153\n",
       "Kelci Walkden          152\n",
       "Marney O'Breen         152\n",
       "Mallorie Waber         152\n",
       "Gigi Bohling           152\n",
       "Ches Bonnell           151\n",
       "Barr Faughny           150\n",
       "Jan Morforth           150\n",
       "Jehu Rudeforth         149\n",
       "Camilla Castle         148\n",
       "Rafaelita Blaksland    147\n",
       "Husein Augar           146\n",
       "Oby Sorrel             146\n",
       "Curtice Advani         145\n",
       "Kaine Padly            142\n",
       "Name: count, dtype: int64"
      ]
     },
     "execution_count": 125,
     "metadata": {},
     "output_type": "execute_result"
    }
   ],
   "source": [
    "df[\"Sales Person\"].value_counts()"
   ]
  },
  {
   "cell_type": "code",
   "execution_count": null,
   "id": "bf2d5b9b",
   "metadata": {},
   "outputs": [
    {
     "data": {
      "text/plain": [
       "np.int64(1344574)"
      ]
     },
     "execution_count": 126,
     "metadata": {},
     "output_type": "execute_result"
    }
   ],
   "source": [
    "total_boxes = df[\"Boxes\"].sum()\n",
    "total_boxes"
   ]
  },
  {
   "cell_type": "code",
   "execution_count": null,
   "id": "1d89534a",
   "metadata": {},
   "outputs": [
    {
     "data": {
      "text/plain": [
       "Product\n",
       "Orange Choco            887893622\n",
       "50% Dark Bites          830915722\n",
       "White Choc              784010962\n",
       "70% Dark Bites          739920153\n",
       "Baker's Choco Chips     664557355\n",
       "Fruit & Nut Bars        659079008\n",
       "85% Dark Bars           583281937\n",
       "99% Dark & Pure         574641942\n",
       "Eclairs                 574003577\n",
       "Choco Coated Almonds    569210635\n",
       "Spicy Special Slims     524377693\n",
       "Smooth Sliky Salty      521539018\n",
       "Raspberry Choco         502882464\n",
       "Almond Choco            466655665\n",
       "Mint Chip Choco         458790101\n",
       "Drinking Coco           454337625\n",
       "Peanut Butter Cubes     450318806\n",
       "Caramel Stuffed Bars    430618363\n",
       "Organic Choco Syrup     406281421\n",
       "After Nines             352091838\n",
       "Milk Bars               330087597\n",
       "Manuka Honey Choco      318425989\n",
       "Name: Revenue, dtype: int64"
      ]
     },
     "execution_count": 127,
     "metadata": {},
     "output_type": "execute_result"
    }
   ],
   "source": [
    "product_by_rev = df.groupby([\"Product\"])[\"Revenue\"].sum().sort_values(ascending=False)\n",
    "product_by_rev"
   ]
  }
 ],
 "metadata": {
  "kernelspec": {
   "display_name": "vire",
   "language": "python",
   "name": "python3"
  },
  "language_info": {
   "codemirror_mode": {
    "name": "ipython",
    "version": 3
   },
   "file_extension": ".py",
   "mimetype": "text/x-python",
   "name": "python",
   "nbconvert_exporter": "python",
   "pygments_lexer": "ipython3",
   "version": "3.13.7"
  }
 },
 "nbformat": 4,
 "nbformat_minor": 5
}
