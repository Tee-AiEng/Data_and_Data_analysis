{
 "cells": [
  {
   "cell_type": "markdown",
   "id": "50ce2e42",
   "metadata": {},
   "source": []
  },
  {
   "cell_type": "markdown",
   "id": "55b6f86e",
   "metadata": {},
   "source": [
    "\n",
    "## CLASS TASK 2\n",
    "## Given the following matrices:\n",
    "``` ## A = [[2, - 1, 3], [0, 4, 1]] ```\n",
    "\n",
    "``` ## B = [[1, 2], [- 2, 0], [5, - 3]] ```\n",
    "## a Identify the number of rows and columns in each matrix.\n",
    "## b Determine whether the matrices can be multiplied. If so, specify whether it's (AB), (BA), or both.\n",
    "## if the multiplication is defined, compute the resulting matrix.\n",
    "\n"
   ]
  },
  {
   "cell_type": "markdown",
   "id": "f532dfb6",
   "metadata": {},
   "source": [
    "## A\n",
    "a1. for matrix A, the number of row is 2, while the number of column is 3 and the order of matrix is a 2 by 3 matrix\n",
    "\n",
    "a2. for matrix B, the number of row is 3, while the number of colunm is 2 and the order of matrix is a 3 by 2 matrix"
   ]
  },
  {
   "cell_type": "markdown",
   "id": "828277f3",
   "metadata": {},
   "source": [
    "## B\n",
    "Both  matrix can be multiplied"
   ]
  },
  {
   "cell_type": "markdown",
   "id": "a35dd2cc",
   "metadata": {},
   "source": [
    "```  A = [[2, - 1, 3], [0, 4, 1]] ```\n",
    "\n",
    "```  B = [[1, 2],[- 2, 0],[5, - 3]] ```\n",
    "\n",
    "``` AB = [[19 -5],[-3,-3]] ```\n",
    "\n",
    "``` BA = [[2, 7, 5],[-4, 2, -6],[10, -17, 12]] ```"
   ]
  },
  {
   "cell_type": "code",
   "execution_count": 1,
   "id": "69b51331",
   "metadata": {},
   "outputs": [],
   "source": [
    "import numpy as np"
   ]
  },
  {
   "cell_type": "code",
   "execution_count": 5,
   "id": "c0ddd31b",
   "metadata": {},
   "outputs": [
    {
     "name": "stdout",
     "output_type": "stream",
     "text": [
      "[[ 2 -1  3]\n",
      " [ 0  4  1]]\n",
      "[[ 1  2]\n",
      " [-2  0]\n",
      " [ 5 -3]]\n",
      "AB\n",
      ": [[19 -5]\n",
      " [-3 -3]]\n",
      "BA\n",
      ": [[  2   7   5]\n",
      " [ -4   2  -6]\n",
      " [ 10 -17  12]]\n"
     ]
    }
   ],
   "source": [
    "A = np.array([[2, - 1, 3], [0, 4, 1]])\n",
    "B = np.array([[1, 2], [- 2, 0], [5, - 3]])\n",
    "print(A)\n",
    "print(B)\n",
    "print(\"AB\\n:\", np.matmul(A, B))\n",
    "print(\"BA\\n:\", np.matmul(B, A))"
   ]
  }
 ],
 "metadata": {
  "kernelspec": {
   "display_name": "vire",
   "language": "python",
   "name": "python3"
  },
  "language_info": {
   "codemirror_mode": {
    "name": "ipython",
    "version": 3
   },
   "file_extension": ".py",
   "mimetype": "text/x-python",
   "name": "python",
   "nbconvert_exporter": "python",
   "pygments_lexer": "ipython3",
   "version": "3.13.7"
  }
 },
 "nbformat": 4,
 "nbformat_minor": 5
}
