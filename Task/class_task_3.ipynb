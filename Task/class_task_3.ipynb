{
 "cells": [
  {
   "cell_type": "code",
   "execution_count": null,
   "id": "0af01c62",
   "metadata": {},
   "outputs": [],
   "source": [
    "import numpy as np"
   ]
  },
  {
   "cell_type": "markdown",
   "id": "9a775405",
   "metadata": {},
   "source": [
    "CLASS TASK 3\n",
    "Let A = [[2, - 1], [0, 3]] , B = [[1, 4], [- 2, 5]] and let the scalars (c = 2) (d = 3)\n",
    "\n",
    "Compute the following: (cA), (dB), and (c+d)A\n",
    "\n",
    "Using the results gotten, Verify the Scalar Multiplication Properties\n",
    "\n",
    "Find the transpose of both matrices:\n"
   ]
  },
  {
   "cell_type": "markdown",
   "id": "264c2062",
   "metadata": {},
   "source": [
    "(cA) = [[4, -2], [0, 6]]\n",
    "\n",
    "(dB) = [[3, 12], [-6, 15]]\n",
    "\n",
    "(c+d)A = [[10, -5],[0, 15]]\n",
    "\n"
   ]
  },
  {
   "cell_type": "markdown",
   "id": "b4b833d4",
   "metadata": {},
   "source": [
    "Verify the Scalar Multiplication Properties\n",
    "\n",
    "(c.d)A = c(dA)\n",
    "\n",
    "[[12, -6],[0, 18]] = [[12. -6], [0, 18]]\n",
    "\n",
    "c(A+B) = cA + cB\n",
    "\n",
    "[[6, 6], [-4, 16]] = [[6, 6], [-4, 16]]"
   ]
  },
  {
   "cell_type": "markdown",
   "id": "49fb47b4",
   "metadata": {},
   "source": [
    "A^T = [[2, 0], [-1, 3]]\n",
    "\n",
    "B^T = [[1, -2],[4, 5]]"
   ]
  }
 ],
 "metadata": {
  "language_info": {
   "name": "python"
  }
 },
 "nbformat": 4,
 "nbformat_minor": 5
}
