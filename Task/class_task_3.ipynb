{
 "cells": [
  {
   "cell_type": "code",
   "execution_count": null,
   "id": "0af01c62",
   "metadata": {},
   "outputs": [],
   "source": [
    "import numpy as np"
   ]
  },
  {
   "cell_type": "markdown",
   "id": "9a775405",
   "metadata": {},
   "source": [
    "CLASS TASK 3\n",
    "Let A = [[2, - 1], [0, 3]] , B = [[1, 4], [- 2, 5]] and let the scalars (c = 2) (d = 3)\n",
    "\n",
    "Compute the following: (cA), (dB), and (c+d)A\n",
    "\n",
    "Using the results gotten, Verify the Scalar Multiplication Properties\n",
    "\n",
    "Find the transpose of both matrices:\n"
   ]
  },
  {
   "cell_type": "markdown",
   "id": "b4b833d4",
   "metadata": {},
   "source": [
    "Verify the Scalar Multiplication Properties\n",
    "\n",
    "(c.d)A = c(dA)\n",
    "\n",
    "[[12, -6],[0, 18]] = [[12. -6], [0, 18]]\n",
    "\n",
    "c(A+B) = cA + cB\n",
    "\n",
    "[[6, 6], [-4, 16]] = [[6, 6], [-4, 16]]"
   ]
  },
  {
   "cell_type": "markdown",
   "id": "264c2062",
   "metadata": {},
   "source": [
    "Compute the following: (cA), (dB), and (c+d)A\n",
    "\n",
    "(cA) = [[4, -2], [0, 6]]\n",
    "\n",
    "(dB) = [[3, 12], [-6, 15]]\n",
    "\n",
    "(c+d)A = [[10, -5],[0, 15]]\n",
    "\n"
   ]
  },
  {
   "cell_type": "markdown",
   "id": "49fb47b4",
   "metadata": {},
   "source": [
    "Find the transpose of both matrices:\n",
    "\n",
    "A^T = [[2, 0], [-1, 3]]\n",
    "\n",
    "B^T = [[1, -2],[4, 5]]"
   ]
  },
  {
   "cell_type": "markdown",
   "id": "c63cb93f",
   "metadata": {},
   "source": [
    "find inverse of the matrices\n",
    "\n",
    " A = [[2, - 1], [0, 3]] \n",
    " \n",
    " det(A) = 7\n",
    "\n",
    " A^-1=1/6[[3,  1], [0, 2]]\n",
    "\n",
    "\n",
    "  A^-1 = [[1/2, 1/6],[0, 1/3]]\n"
   ]
  },
  {
   "cell_type": "markdown",
   "id": "4b9278d0",
   "metadata": {},
   "source": [
    "B = [[1, 4], [- 2, 5]]\n",
    "\n",
    " det(B) =  13\n",
    "\n",
    " B^-1=1/13[[5,  -4], [2, 1]]\n",
    "\n",
    "  B^-1 = [[5/13, -4/13],[2/13, 1/13]]\n",
    "\n",
    "\n"
   ]
  }
 ],
 "metadata": {
  "language_info": {
   "name": "python"
  }
 },
 "nbformat": 4,
 "nbformat_minor": 5
}
